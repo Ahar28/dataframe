{
 "cells": [
  {
   "cell_type": "code",
   "execution_count": 1,
   "id": "02715c9a",
   "metadata": {},
   "outputs": [],
   "source": [
    "@file:Repository(\"*mavenLocal\")"
   ]
  },
  {
   "cell_type": "code",
   "execution_count": 2,
   "id": "0127fecf",
   "metadata": {},
   "outputs": [
    {
     "data": {
      "text/html": [
       "            <div id=\"kotlin_out_0\"/>\n",
       "            <script type=\"text/javascript\">\n",
       "                            if(!window.kotlinQueues) {\n",
       "                window.kotlinQueues = {};\n",
       "            }\n",
       "            if(!window.kotlinQueues[\"DataFrame\"]) {\n",
       "                var resQueue = [];\n",
       "                window.kotlinQueues[\"DataFrame\"] = resQueue;\n",
       "                window[\"call_DataFrame\"] = function(f) {\n",
       "                    resQueue.push(f);\n",
       "                }\n",
       "            }\n",
       "            (function (){\n",
       "                var modifiers = [(function(script) {\n",
       "    script.src = \"https://cdn.jsdelivr.net/gh/Kotlin/dataframe@d6467c1389bc031958acd5310fce39167b5cc581/src/main/resources/init.js\"\n",
       "    script.type = \"text/javascript\";\n",
       "})];\n",
       "                var e = document.getElementById(\"kotlin_out_0\");\n",
       "                modifiers.forEach(function (gen) {\n",
       "                    var script = document.createElement(\"script\");\n",
       "                    gen(script)\n",
       "                    script.addEventListener(\"load\", function() {\n",
       "                        window[\"call_DataFrame\"] = function(f) {f();};\n",
       "                        window.kotlinQueues[\"DataFrame\"].forEach(function(f) {f();});\n",
       "                        window.kotlinQueues[\"DataFrame\"] = [];\n",
       "                    }, false);\n",
       "                    script.addEventListener(\"error\", function() {\n",
       "                        window[\"call_DataFrame\"] = function(f) {};\n",
       "                        window.kotlinQueues[\"DataFrame\"] = [];\n",
       "                        var div = document.createElement(\"div\");\n",
       "                        div.style.color = 'darkred';\n",
       "                        div.textContent = 'Error loading resource DataFrame';\n",
       "                        document.getElementById(\"kotlin_out_0\").appendChild(div);\n",
       "                    }, false);\n",
       "                    \n",
       "                    e.appendChild(script);\n",
       "                });\n",
       "            })();\n",
       "            </script>"
      ]
     },
     "metadata": {},
     "output_type": "display_data"
    },
    {
     "data": {
      "text/html": [
       "                <style>\n",
       "                :root {\n",
       "    --background: #fff;\n",
       "    --background-odd: #f5f5f5;\n",
       "    --background-hover: #d9edfd;\n",
       "    --header-text-color: #474747;\n",
       "    --text-color: #848484;\n",
       "    --text-color-dark: #000;\n",
       "    --text-color-medium: #737373;\n",
       "    --text-color-pale: #b3b3b3;\n",
       "    --inner-border-color: #aaa;\n",
       "    --bold-border-color: #000;\n",
       "    --link-color: #296eaa;\n",
       "    --link-color-pale: #296eaa;\n",
       "    --link-hover: #1a466c;\n",
       "}\n",
       "\n",
       ":root[theme=\"dark\"], :root [data-jp-theme-light=\"false\"]{\n",
       "    --background: #303030;\n",
       "    --background-odd: #3c3c3c;\n",
       "    --background-hover: #464646;\n",
       "    --header-text-color: #dddddd;\n",
       "    --text-color: #b3b3b3;\n",
       "    --text-color-dark: #dddddd;\n",
       "    --text-color-medium: #b2b2b2;\n",
       "    --text-color-pale: #737373;\n",
       "    --inner-border-color: #707070;\n",
       "    --bold-border-color: #777777;\n",
       "    --link-color: #008dc0;\n",
       "    --link-color-pale: #97e1fb;\n",
       "    --link-hover: #00688e;\n",
       "}\n",
       "\n",
       "table.dataframe {\n",
       "    font-family: \"Helvetica Neue\", Helvetica, Arial, sans-serif;\n",
       "    font-size: 12px;\n",
       "    background-color: var(--background);\n",
       "    color: var(--text-color-dark);\n",
       "    border: none;\n",
       "    border-collapse: collapse;\n",
       "}\n",
       "\n",
       "table.dataframe th, td {\n",
       "    padding: 6px;\n",
       "    border: 1px solid transparent;\n",
       "    text-align: left;\n",
       "}\n",
       "\n",
       "table.dataframe th {\n",
       "    background-color: var(--background);\n",
       "    color: var(--header-text-color);\n",
       "}\n",
       "\n",
       "table.dataframe td {\n",
       "    vertical-align: top;\n",
       "}\n",
       "\n",
       "table.dataframe th.bottomBorder {\n",
       "    border-bottom-color: var(--bold-border-color);\n",
       "}\n",
       "\n",
       "table.dataframe tbody > tr:nth-child(odd) {\n",
       "    background: var(--background-odd);\n",
       "}\n",
       "\n",
       "table.dataframe tbody > tr:nth-child(even) {\n",
       "    background: var(--background);\n",
       "}\n",
       "\n",
       "table.dataframe tbody > tr:hover {\n",
       "    background: var(--background-hover);\n",
       "}\n",
       "\n",
       "table.dataframe a {\n",
       "    cursor: pointer;\n",
       "    color: var(--link-color);\n",
       "    text-decoration: none;\n",
       "}\n",
       "\n",
       "table.dataframe tr:hover > td a {\n",
       "    color: var(--link-color-pale);\n",
       "}\n",
       "\n",
       "table.dataframe a:hover {\n",
       "    color: var(--link-hover);\n",
       "    text-decoration: underline;\n",
       "}\n",
       "\n",
       "table.dataframe img {\n",
       "    max-width: fit-content;\n",
       "}\n",
       "\n",
       "table.dataframe th.complex {\n",
       "    background-color: var(--background);\n",
       "    border: 1px solid var(--background);\n",
       "}\n",
       "\n",
       "table.dataframe .leftBorder {\n",
       "    border-left-color: var(--inner-border-color);\n",
       "}\n",
       "\n",
       "table.dataframe .rightBorder {\n",
       "    border-right-color: var(--inner-border-color);\n",
       "}\n",
       "\n",
       "table.dataframe .rightAlign {\n",
       "    text-align: right;\n",
       "}\n",
       "\n",
       "table.dataframe .expanderSvg {\n",
       "    width: 8px;\n",
       "    height: 8px;\n",
       "    margin-right: 3px;\n",
       "}\n",
       "\n",
       "table.dataframe .expander {\n",
       "    display: flex;\n",
       "    align-items: center;\n",
       "}\n",
       "\n",
       "/* formatting */\n",
       "\n",
       "table.dataframe .null {\n",
       "    color: var(--text-color-pale);\n",
       "}\n",
       "\n",
       "table.dataframe .structural {\n",
       "    color: var(--text-color-medium);\n",
       "    font-weight: bold;\n",
       "}\n",
       "\n",
       "table.dataframe .dataFrameCaption {\n",
       "    font-weight: bold;\n",
       "}\n",
       "\n",
       "table.dataframe .numbers {\n",
       "    color: var(--text-color-dark);\n",
       "}\n",
       "\n",
       "table.dataframe td:hover .formatted .structural, .null {\n",
       "    color: var(--text-color-dark);\n",
       "}\n",
       "\n",
       "table.dataframe tr:hover .formatted .structural, .null {\n",
       "    color: var(--text-color-dark);\n",
       "}\n",
       "\n",
       "\n",
       "                </style>"
      ]
     },
     "metadata": {},
     "output_type": "display_data"
    }
   ],
   "source": [
    "@file:DependsOn(\"org.jetbrains.kotlinx:dataframe:0.9.0-dev\")"
   ]
  },
  {
   "cell_type": "code",
   "execution_count": 3,
   "id": "24bd29dd",
   "metadata": {},
   "outputs": [],
   "source": [
    "import org.jetbrains.kotlinx.dataframe.plugin.*"
   ]
  },
  {
   "cell_type": "code",
   "execution_count": 4,
   "id": "9e0c2678",
   "metadata": {},
   "outputs": [],
   "source": [
    "val df = dataFrameOf(\"a\")(1)"
   ]
  },
  {
   "cell_type": "code",
   "execution_count": 5,
   "id": "fd0c3d4a",
   "metadata": {},
   "outputs": [],
   "source": [
    "var id = 0"
   ]
  },
  {
   "cell_type": "code",
   "execution_count": 6,
   "id": "20927012",
   "metadata": {},
   "outputs": [],
   "source": [
    "fun DataFrame<*>.generateSchemaDeclaration(): String {\n",
    "    return generateSchemaDeclaration(\"Convert$id\").replace(\"Line_\\\\d*\\\\.\".toRegex(), \"\").also { id++ }\n",
    "}"
   ]
  },
  {
   "cell_type": "code",
   "execution_count": 7,
   "id": "fb8efa44",
   "metadata": {},
   "outputs": [
    {
     "data": {
      "text/plain": [
       "@DataSchema\n",
       "interface Schema {\n",
       "    val a: Int\n",
       "}\n",
       "\n",
       "val ColumnsContainer<Schema>.a: DataColumn<Int>  get() = this[\"a\"] as DataColumn<Int>\n",
       "val DataRow<Schema>.a: Int  get() = this[\"a\"] as Int"
      ]
     },
     "execution_count": 7,
     "metadata": {},
     "output_type": "execute_result"
    }
   ],
   "source": [
    "df.generateSchemaDeclaration(\"Schema\")"
   ]
  },
  {
   "cell_type": "code",
   "execution_count": 8,
   "id": "edc5fdfe",
   "metadata": {},
   "outputs": [],
   "source": [
    "enum class Direction { NORTH, SOUTH, WEST, EAST }"
   ]
  },
  {
   "cell_type": "code",
   "execution_count": 9,
   "id": "a81d8ac8",
   "metadata": {},
   "outputs": [],
   "source": [
    "val df = dataFrameOf(\"direction\")(\"NORTH\", \"WEST\")"
   ]
  },
  {
   "cell_type": "code",
   "execution_count": 10,
   "id": "91591190",
   "metadata": {},
   "outputs": [],
   "source": [
    "val df1 = df.convert(\"direction\").to<Direction>()"
   ]
  },
  {
   "cell_type": "code",
   "execution_count": 11,
   "id": "c0bf8afb",
   "metadata": {},
   "outputs": [
    {
     "data": {
      "text/plain": [
       "NORTH"
      ]
     },
     "execution_count": 11,
     "metadata": {},
     "output_type": "execute_result"
    }
   ],
   "source": [
    "df1.direction[0]"
   ]
  },
  {
   "cell_type": "code",
   "execution_count": 12,
   "id": "0ef747f3",
   "metadata": {},
   "outputs": [
    {
     "data": {
      "text/plain": [
       "@DataSchema\n",
       "interface Convert0 {\n",
       "    val direction: String\n",
       "}\n",
       "\n",
       "val ColumnsContainer<Convert0>.direction: DataColumn<String>  get() = this[\"direction\"] as DataColumn<String>\n",
       "val DataRow<Convert0>.direction: String  get() = this[\"direction\"] as String"
      ]
     },
     "execution_count": 12,
     "metadata": {},
     "output_type": "execute_result"
    }
   ],
   "source": [
    "df.generateSchemaDeclaration()"
   ]
  },
  {
   "cell_type": "code",
   "execution_count": 13,
   "id": "a6c56f85",
   "metadata": {},
   "outputs": [
    {
     "data": {
      "text/plain": [
       "@DataSchema\n",
       "interface Convert1 {\n",
       "    val direction: Direction\n",
       "}\n",
       "\n",
       "val ColumnsContainer<Convert1>.direction: DataColumn<Direction>  get() = this[\"direction\"] as DataColumn<Direction>\n",
       "val DataRow<Convert1>.direction: Direction  get() = this[\"direction\"] as Direction"
      ]
     },
     "execution_count": 13,
     "metadata": {},
     "output_type": "execute_result"
    }
   ],
   "source": [
    "df1.generateSchemaDeclaration()"
   ]
  },
  {
   "cell_type": "code",
   "execution_count": 14,
   "id": "0fe540af",
   "metadata": {},
   "outputs": [],
   "source": [
    "fun DataFrame<*>.generateTestStub(id: Int): String {\n",
    "    val name = \"Convert$id\"\n",
    "    val schema = generateSchemaDeclaration(name)\n",
    "    \n",
    "    return \"\"\"\n",
    "    import org.jetbrains.kotlinx.dataframe.*\n",
    "    import org.jetbrains.kotlinx.dataframe.api.*\n",
    "    import org.jetbrains.kotlinx.dataframe.annotations.*\n",
    "    import org.jetbrains.kotlinx.dataframe.plugin.testing.*\n",
    "    import org.jetbrains.kotlinx.dataframe.plugin.testing.atoms.*\n",
    "    \n",
    "    $schema\n",
    "    \n",
    "    fun convert$id(df: DataFrame<$name>) {\n",
    "        \n",
    "    }\n",
    "    \"\"\"\n",
    "}"
   ]
  },
  {
   "cell_type": "code",
   "execution_count": 15,
   "id": "a9e281de",
   "metadata": {},
   "outputs": [
    {
     "data": {
      "text/plain": [
       "\n",
       "    import org.jetbrains.kotlinx.dataframe.*\n",
       "    import org.jetbrains.kotlinx.dataframe.api.*\n",
       "    import org.jetbrains.kotlinx.dataframe.annotations.*\n",
       "    import org.jetbrains.kotlinx.dataframe.plugin.testing.*\n",
       "    import org.jetbrains.kotlinx.dataframe.plugin.testing.atoms.*\n",
       "    \n",
       "    @DataSchema\n",
       "interface Convert1 {\n",
       "    val direction: String\n",
       "}\n",
       "\n",
       "val ColumnsContainer<Convert1>.direction: DataColumn<String>  get() = this[\"direction\"] as DataColumn<String>\n",
       "val DataRow<Convert1>.direction: String  get() = this[\"direction\"] as String\n",
       "    \n",
       "    fun convert1(df: DataFrame<Convert1>) {\n",
       "        \n",
       "    }\n",
       "    "
      ]
     },
     "execution_count": 15,
     "metadata": {},
     "output_type": "execute_result"
    }
   ],
   "source": [
    "df.generateTestStub(1)"
   ]
  },
  {
   "cell_type": "code",
   "execution_count": 16,
   "id": "7c5d2cc2",
   "metadata": {},
   "outputs": [],
   "source": [
    "val df = dataFrameOf(\"name\", \"age\", \"city\", \"weight\")(\n",
    "        \"Alice\", 15, \"London\", 54,\n",
    "        \"Bob\", 45, \"Dubai\", 87,\n",
    "        \"Charlie\", 20, \"Moscow\", null,\n",
    "        \"Charlie\", 40, \"Milan\", null,\n",
    "        \"Bob\", 30, \"Tokyo\", 68,\n",
    "        \"Alice\", 20, null, 55,\n",
    "        \"Charlie\", 30, \"Moscow\", 90\n",
    "    )\n",
    "val df2 = dataFrameOf(\"age\")(32.6, 56.3, null)\n",
    "val merged = df.concat(df2)"
   ]
  },
  {
   "cell_type": "code",
   "execution_count": 17,
   "id": "c098e4f7",
   "metadata": {},
   "outputs": [
    {
     "data": {
      "text/plain": [
       "\n",
       "    import org.jetbrains.kotlinx.dataframe.*\n",
       "    import org.jetbrains.kotlinx.dataframe.api.*\n",
       "    import org.jetbrains.kotlinx.dataframe.annotations.*\n",
       "    import org.jetbrains.kotlinx.dataframe.plugin.testing.*\n",
       "    import org.jetbrains.kotlinx.dataframe.plugin.testing.atoms.*\n",
       "    \n",
       "    @DataSchema\n",
       "interface Convert3 {\n",
       "    val age: Number?\n",
       "    val city: String?\n",
       "    val name: String?\n",
       "    val weight: Int?\n",
       "}\n",
       "\n",
       "val ColumnsContainer<Convert3>.age: DataColumn<Number?>  get() = this[\"age\"] as DataColumn<Number?>\n",
       "val DataRow<Convert3>.age: Number?  get() = this[\"age\"] as Number?\n",
       "val ColumnsContainer<Convert3>.city: DataColumn<String?>  get() = this[\"city\"] as DataColumn<String?>\n",
       "val DataRow<Convert3>.city: String?  get() = this[\"city\"] as String?\n",
       "val ColumnsContainer<Convert3>.name: DataColumn<String?>  get() = this[\"name\"] as DataColumn<String?>\n",
       "val DataRow<Convert3>.name: String?  get() = this[\"name\"] as String?\n",
       "val ColumnsContainer<Convert3>.weight: DataColumn<Int?>  get() = this[\"weight\"] as DataColumn<Int?>\n",
       "val DataRow<Convert3>.weight: Int?  get() = this[\"weight\"] as Int?\n",
       "    \n",
       "    fun convert3(df: DataFrame<Convert3>) {\n",
       "        \n",
       "    }\n",
       "    "
      ]
     },
     "execution_count": 17,
     "metadata": {},
     "output_type": "execute_result"
    }
   ],
   "source": [
    "merged.generateTestStub(3)"
   ]
  },
  {
   "cell_type": "code",
   "execution_count": 18,
   "id": "9a4980d5",
   "metadata": {},
   "outputs": [],
   "source": [
    "val merged1 = merged.convert(\"age\") { \"age\"<Number?>()?.toDouble() }"
   ]
  },
  {
   "cell_type": "code",
   "execution_count": 19,
   "id": "44353265",
   "metadata": {},
   "outputs": [],
   "source": [
    "fun col0(v: Double?) {}\n",
    "col0(merged1.age[0])"
   ]
  },
  {
   "cell_type": "code",
   "execution_count": 20,
   "id": "4991c3db",
   "metadata": {},
   "outputs": [
    {
     "data": {
      "text/plain": [
       "\n",
       "    import org.jetbrains.kotlinx.dataframe.*\n",
       "    import org.jetbrains.kotlinx.dataframe.api.*\n",
       "    import org.jetbrains.kotlinx.dataframe.annotations.*\n",
       "    import org.jetbrains.kotlinx.dataframe.plugin.testing.*\n",
       "    import org.jetbrains.kotlinx.dataframe.plugin.testing.atoms.*\n",
       "    \n",
       "    @DataSchema\n",
       "interface Convert4 {\n",
       "    val age: Number?\n",
       "    val city: String?\n",
       "    val name: String?\n",
       "    val weight: Int?\n",
       "}\n",
       "\n",
       "val ColumnsContainer<Convert4>.age: DataColumn<Number?>  get() = this[\"age\"] as DataColumn<Number?>\n",
       "val DataRow<Convert4>.age: Number?  get() = this[\"age\"] as Number?\n",
       "val ColumnsContainer<Convert4>.city: DataColumn<String?>  get() = this[\"city\"] as DataColumn<String?>\n",
       "val DataRow<Convert4>.city: String?  get() = this[\"city\"] as String?\n",
       "val ColumnsContainer<Convert4>.name: DataColumn<String?>  get() = this[\"name\"] as DataColumn<String?>\n",
       "val DataRow<Convert4>.name: String?  get() = this[\"name\"] as String?\n",
       "val ColumnsContainer<Convert4>.weight: DataColumn<Int?>  get() = this[\"weight\"] as DataColumn<Int?>\n",
       "val DataRow<Convert4>.weight: Int?  get() = this[\"weight\"] as Int?\n",
       "    \n",
       "    fun convert4(df: DataFrame<Convert4>) {\n",
       "        \n",
       "    }\n",
       "    "
      ]
     },
     "execution_count": 20,
     "metadata": {},
     "output_type": "execute_result"
    }
   ],
   "source": [
    "merged.generateTestStub(4)"
   ]
  },
  {
   "cell_type": "code",
   "execution_count": 21,
   "id": "28e9c88d",
   "metadata": {},
   "outputs": [],
   "source": [
    "val df1 = merged.convert(\"age\", \"weight\") { it?.toString() }"
   ]
  },
  {
   "cell_type": "code",
   "execution_count": 22,
   "id": "34d6c304",
   "metadata": {},
   "outputs": [
    {
     "data": {
      "text/html": [
       "        <html>\n",
       "        <head>\n",
       "            <style type=\"text/css\">\n",
       "                \n",
       "\n",
       "            </style>\n",
       "        </head>\n",
       "        <body>\n",
       "            <table class=\"dataframe\" id=\"df_-1526726656\"></table>\n",
       "\n",
       "<p>DataColumn: name = \"weight\", type = String?, size = 10</p>\n",
       "        </body>\n",
       "        <script>\n",
       "            /*<!--*/\n",
       "call_DataFrame(function() { DataFrame.addTable({ cols: [{ name: \"<span title=\\\"weight: String?\\\">weight</span>\", children: [], rightAlign: false, values: [\"54\",\"87\",\"<span class=\\\"formatted\\\" title=\\\"\\\"><span class=\\\"null\\\">null</span></span>\",\"<span class=\\\"formatted\\\" title=\\\"\\\"><span class=\\\"null\\\">null</span></span>\",\"68\",\"55\",\"90\",\"<span class=\\\"formatted\\\" title=\\\"\\\"><span class=\\\"null\\\">null</span></span>\",\"<span class=\\\"formatted\\\" title=\\\"\\\"><span class=\\\"null\\\">null</span></span>\",\"<span class=\\\"formatted\\\" title=\\\"\\\"><span class=\\\"null\\\">null</span></span>\"] }, \n",
       "], id: -1526726656, rootId: -1526726656, totalRows: 10 } ) });\n",
       "/*-->*/\n",
       "\n",
       "call_DataFrame(function() { DataFrame.renderTable(-1526726656) });\n",
       "\n",
       "\n",
       "        </script>\n",
       "        </html>"
      ]
     },
     "execution_count": 22,
     "metadata": {},
     "output_type": "execute_result"
    }
   ],
   "source": [
    "df1.weight"
   ]
  },
  {
   "cell_type": "code",
   "execution_count": 23,
   "id": "89875ce3",
   "metadata": {},
   "outputs": [
    {
     "data": {
      "text/html": [
       "        <html>\n",
       "        <head>\n",
       "            <style type=\"text/css\">\n",
       "                \n",
       "\n",
       "            </style>\n",
       "        </head>\n",
       "        <body>\n",
       "            <table class=\"dataframe\" id=\"df_-1526726655\"></table>\n",
       "\n",
       "<p>DataFrame: rowsCount = 10, columnsCount = 4</p>\n",
       "        </body>\n",
       "        <script>\n",
       "            /*<!--*/\n",
       "call_DataFrame(function() { DataFrame.addTable({ cols: [{ name: \"<span title=\\\"name: String?\\\">name</span>\", children: [], rightAlign: false, values: [\"Alice\",\"Bob\",\"Charlie\",\"Charlie\",\"Bob\",\"Alice\",\"Charlie\",\"<span class=\\\"formatted\\\" title=\\\"\\\"><span class=\\\"null\\\">null</span></span>\",\"<span class=\\\"formatted\\\" title=\\\"\\\"><span class=\\\"null\\\">null</span></span>\",\"<span class=\\\"formatted\\\" title=\\\"\\\"><span class=\\\"null\\\">null</span></span>\"] }, \n",
       "{ name: \"<span title=\\\"age: String?\\\">age</span>\", children: [], rightAlign: false, values: [\"15\",\"45\",\"20\",\"40\",\"30\",\"20\",\"30\",\"32.6\",\"56.3\",\"<span class=\\\"formatted\\\" title=\\\"\\\"><span class=\\\"null\\\">null</span></span>\"] }, \n",
       "{ name: \"<span title=\\\"city: String?\\\">city</span>\", children: [], rightAlign: false, values: [\"London\",\"Dubai\",\"Moscow\",\"Milan\",\"Tokyo\",\"<span class=\\\"formatted\\\" title=\\\"\\\"><span class=\\\"null\\\">null</span></span>\",\"Moscow\",\"<span class=\\\"formatted\\\" title=\\\"\\\"><span class=\\\"null\\\">null</span></span>\",\"<span class=\\\"formatted\\\" title=\\\"\\\"><span class=\\\"null\\\">null</span></span>\",\"<span class=\\\"formatted\\\" title=\\\"\\\"><span class=\\\"null\\\">null</span></span>\"] }, \n",
       "{ name: \"<span title=\\\"weight: String?\\\">weight</span>\", children: [], rightAlign: false, values: [\"54\",\"87\",\"<span class=\\\"formatted\\\" title=\\\"\\\"><span class=\\\"null\\\">null</span></span>\",\"<span class=\\\"formatted\\\" title=\\\"\\\"><span class=\\\"null\\\">null</span></span>\",\"68\",\"55\",\"90\",\"<span class=\\\"formatted\\\" title=\\\"\\\"><span class=\\\"null\\\">null</span></span>\",\"<span class=\\\"formatted\\\" title=\\\"\\\"><span class=\\\"null\\\">null</span></span>\",\"<span class=\\\"formatted\\\" title=\\\"\\\"><span class=\\\"null\\\">null</span></span>\"] }, \n",
       "], id: -1526726655, rootId: -1526726655, totalRows: 10 } ) });\n",
       "/*-->*/\n",
       "\n",
       "call_DataFrame(function() { DataFrame.renderTable(-1526726655) });\n",
       "\n",
       "\n",
       "        </script>\n",
       "        </html>"
      ]
     },
     "execution_count": 23,
     "metadata": {},
     "output_type": "execute_result"
    }
   ],
   "source": [
    "df1.select { all().filter { it.path.size == 1 } }"
   ]
  },
  {
   "cell_type": "code",
   "execution_count": 24,
   "id": "f130ce9d",
   "metadata": {},
   "outputs": [],
   "source": [
    "val df = merged.convert { age }.with { 42 }"
   ]
  },
  {
   "cell_type": "code",
   "execution_count": 25,
   "id": "105f3ac7",
   "metadata": {},
   "outputs": [
    {
     "data": {
      "text/plain": [
       "\n",
       "    import org.jetbrains.kotlinx.dataframe.*\n",
       "    import org.jetbrains.kotlinx.dataframe.api.*\n",
       "    import org.jetbrains.kotlinx.dataframe.annotations.*\n",
       "    import org.jetbrains.kotlinx.dataframe.plugin.testing.*\n",
       "    import org.jetbrains.kotlinx.dataframe.plugin.testing.atoms.*\n",
       "    \n",
       "    @DataSchema\n",
       "interface Convert5 {\n",
       "    val age: Number?\n",
       "    val city: String?\n",
       "    val name: String?\n",
       "    val weight: Int?\n",
       "}\n",
       "\n",
       "val ColumnsContainer<Convert5>.age: DataColumn<Number?>  get() = this[\"age\"] as DataColumn<Number?>\n",
       "val DataRow<Convert5>.age: Number?  get() = this[\"age\"] as Number?\n",
       "val ColumnsContainer<Convert5>.city: DataColumn<String?>  get() = this[\"city\"] as DataColumn<String?>\n",
       "val DataRow<Convert5>.city: String?  get() = this[\"city\"] as String?\n",
       "val ColumnsContainer<Convert5>.name: DataColumn<String?>  get() = this[\"name\"] as DataColumn<String?>\n",
       "val DataRow<Convert5>.name: String?  get() = this[\"name\"] as String?\n",
       "val ColumnsContainer<Convert5>.weight: DataColumn<Int?>  get() = this[\"weight\"] as DataColumn<Int?>\n",
       "val DataRow<Convert5>.weight: Int?  get() = this[\"weight\"] as Int?\n",
       "    \n",
       "    fun convert5(df: DataFrame<Convert5>) {\n",
       "        \n",
       "    }\n",
       "    "
      ]
     },
     "execution_count": 25,
     "metadata": {},
     "output_type": "execute_result"
    }
   ],
   "source": [
    "merged.generateTestStub(5)"
   ]
  },
  {
   "cell_type": "code",
   "execution_count": 26,
   "id": "f221fa99",
   "metadata": {},
   "outputs": [],
   "source": [
    "val df = merged.group { cols(age, name, weight) }.into(\"person\")"
   ]
  },
  {
   "cell_type": "code",
   "execution_count": 27,
   "id": "3b2dd876",
   "metadata": {},
   "outputs": [
    {
     "data": {
      "text/plain": [
       "\n",
       "    import org.jetbrains.kotlinx.dataframe.*\n",
       "    import org.jetbrains.kotlinx.dataframe.api.*\n",
       "    import org.jetbrains.kotlinx.dataframe.annotations.*\n",
       "    import org.jetbrains.kotlinx.dataframe.plugin.testing.*\n",
       "    import org.jetbrains.kotlinx.dataframe.plugin.testing.atoms.*\n",
       "    \n",
       "    @DataSchema(isOpen = false)\n",
       "interface Convert61 {\n",
       "    val age: Number?\n",
       "    val name: String?\n",
       "    val weight: Int?\n",
       "}\n",
       "\n",
       "val ColumnsContainer<Convert61>.age: DataColumn<Number?>  get() = this[\"age\"] as DataColumn<Number?>\n",
       "val DataRow<Convert61>.age: Number?  get() = this[\"age\"] as Number?\n",
       "val ColumnsContainer<Convert61>.name: DataColumn<String?>  get() = this[\"name\"] as DataColumn<String?>\n",
       "val DataRow<Convert61>.name: String?  get() = this[\"name\"] as String?\n",
       "val ColumnsContainer<Convert61>.weight: DataColumn<Int?>  get() = this[\"weight\"] as DataColumn<Int?>\n",
       "val DataRow<Convert61>.weight: Int?  get() = this[\"weight\"] as Int?\n",
       "\n",
       "@DataSchema\n",
       "interface Convert6 {\n",
       "    val city: String?\n",
       "    val person: DataRow<Convert61>\n",
       "}\n",
       "\n",
       "val ColumnsContainer<Convert6>.city: DataColumn<String?>  get() = this[\"city\"] as DataColumn<String?>\n",
       "val DataRow<Convert6>.city: String?  get() = this[\"city\"] as String?\n",
       "val ColumnsContainer<Convert6>.person: ColumnGroup<Convert61>  get() = this[\"person\"] as ColumnGroup<Convert61>\n",
       "val DataRow<Convert6>.person: DataRow<Convert61>  get() = this[\"person\"] as DataRow<Convert61>\n",
       "    \n",
       "    fun convert6(df: DataFrame<Convert6>) {\n",
       "        \n",
       "    }\n",
       "    "
      ]
     },
     "execution_count": 27,
     "metadata": {},
     "output_type": "execute_result"
    }
   ],
   "source": [
    "df.generateTestStub(6)"
   ]
  },
  {
   "cell_type": "code",
   "execution_count": 28,
   "id": "17411f99",
   "metadata": {},
   "outputs": [],
   "source": [
    "val df1 = df.convert { person.age }.with { it ?: 42 }"
   ]
  },
  {
   "cell_type": "code",
   "execution_count": 29,
   "id": "b7efafd4",
   "metadata": {},
   "outputs": [
    {
     "data": {
      "text/html": [
       "        <html>\n",
       "        <head>\n",
       "            <style type=\"text/css\">\n",
       "                \n",
       "\n",
       "            </style>\n",
       "        </head>\n",
       "        <body>\n",
       "            <table class=\"dataframe\" id=\"df_-1526726654\"></table>\n",
       "\n",
       "<p>DataColumn: name = \"age\", type = Number, size = 10</p>\n",
       "        </body>\n",
       "        <script>\n",
       "            /*<!--*/\n",
       "call_DataFrame(function() { DataFrame.addTable({ cols: [{ name: \"<span title=\\\"age: Number\\\">age</span>\", children: [], rightAlign: true, values: [\"<span class=\\\"formatted\\\" title=\\\"\\\"><span class=\\\"numbers\\\">15</span></span>\",\"<span class=\\\"formatted\\\" title=\\\"\\\"><span class=\\\"numbers\\\">45</span></span>\",\"<span class=\\\"formatted\\\" title=\\\"\\\"><span class=\\\"numbers\\\">20</span></span>\",\"<span class=\\\"formatted\\\" title=\\\"\\\"><span class=\\\"numbers\\\">40</span></span>\",\"<span class=\\\"formatted\\\" title=\\\"\\\"><span class=\\\"numbers\\\">30</span></span>\",\"<span class=\\\"formatted\\\" title=\\\"\\\"><span class=\\\"numbers\\\">20</span></span>\",\"<span class=\\\"formatted\\\" title=\\\"\\\"><span class=\\\"numbers\\\">30</span></span>\",\"<span class=\\\"formatted\\\" title=\\\"\\\"><span class=\\\"numbers\\\">32.6</span></span>\",\"<span class=\\\"formatted\\\" title=\\\"\\\"><span class=\\\"numbers\\\">56.3</span></span>\",\"<span class=\\\"formatted\\\" title=\\\"\\\"><span class=\\\"numbers\\\">42</span></span>\"] }, \n",
       "], id: -1526726654, rootId: -1526726654, totalRows: 10 } ) });\n",
       "/*-->*/\n",
       "\n",
       "call_DataFrame(function() { DataFrame.renderTable(-1526726654) });\n",
       "\n",
       "\n",
       "        </script>\n",
       "        </html>"
      ]
     },
     "execution_count": 29,
     "metadata": {},
     "output_type": "execute_result"
    }
   ],
   "source": [
    "df1.person.age"
   ]
  },
  {
   "cell_type": "code",
   "execution_count": 30,
   "id": "2ed49ca5",
   "metadata": {},
   "outputs": [],
   "source": [
    "val DataRow<Any>.age get() = 42"
   ]
  },
  {
   "cell_type": "code",
   "execution_count": 31,
   "id": "0f084421",
   "metadata": {},
   "outputs": [
    {
     "data": {
      "text/html": [
       "        <html>\n",
       "        <head>\n",
       "            <style type=\"text/css\">\n",
       "                \n",
       "\n",
       "            </style>\n",
       "        </head>\n",
       "        <body>\n",
       "            <table class=\"dataframe\" id=\"df_-1526726653\"></table>\n",
       "\n",
       "<p>DataFrame: rowsCount = 10, columnsCount = 2</p>\n",
       "        </body>\n",
       "        <script>\n",
       "            /*<!--*/\n",
       "call_DataFrame(function() { DataFrame.addTable({ cols: [{ name: \"<span title=\\\"age: Number?\\\">age</span>\", children: [], rightAlign: true, values: [\"<span class=\\\"formatted\\\" title=\\\"\\\"><span class=\\\"numbers\\\">15</span></span>\",\"<span class=\\\"formatted\\\" title=\\\"\\\"><span class=\\\"numbers\\\">45</span></span>\",\"<span class=\\\"formatted\\\" title=\\\"\\\"><span class=\\\"numbers\\\">20</span></span>\",\"<span class=\\\"formatted\\\" title=\\\"\\\"><span class=\\\"numbers\\\">40</span></span>\",\"<span class=\\\"formatted\\\" title=\\\"\\\"><span class=\\\"numbers\\\">30</span></span>\",\"<span class=\\\"formatted\\\" title=\\\"\\\"><span class=\\\"numbers\\\">20</span></span>\",\"<span class=\\\"formatted\\\" title=\\\"\\\"><span class=\\\"numbers\\\">30</span></span>\",\"<span class=\\\"formatted\\\" title=\\\"\\\"><span class=\\\"numbers\\\">32.6</span></span>\",\"<span class=\\\"formatted\\\" title=\\\"\\\"><span class=\\\"numbers\\\">56.3</span></span>\",\"<span class=\\\"formatted\\\" title=\\\"\\\"><span class=\\\"null\\\">null</span></span>\"] }, \n",
       "{ name: \"<span title=\\\"name: String?\\\">name</span>\", children: [], rightAlign: false, values: [\"Alice\",\"Bob\",\"Charlie\",\"Charlie\",\"Bob\",\"Alice\",\"Charlie\",\"<span class=\\\"formatted\\\" title=\\\"\\\"><span class=\\\"null\\\">null</span></span>\",\"<span class=\\\"formatted\\\" title=\\\"\\\"><span class=\\\"null\\\">null</span></span>\",\"<span class=\\\"formatted\\\" title=\\\"\\\"><span class=\\\"null\\\">null</span></span>\"] }, \n",
       "{ name: \"<span title=\\\"weight: Int?\\\">weight</span>\", children: [], rightAlign: true, values: [\"<span class=\\\"formatted\\\" title=\\\"\\\"><span class=\\\"numbers\\\">54</span></span>\",\"<span class=\\\"formatted\\\" title=\\\"\\\"><span class=\\\"numbers\\\">87</span></span>\",\"<span class=\\\"formatted\\\" title=\\\"\\\"><span class=\\\"null\\\">null</span></span>\",\"<span class=\\\"formatted\\\" title=\\\"\\\"><span class=\\\"null\\\">null</span></span>\",\"<span class=\\\"formatted\\\" title=\\\"\\\"><span class=\\\"numbers\\\">68</span></span>\",\"<span class=\\\"formatted\\\" title=\\\"\\\"><span class=\\\"numbers\\\">55</span></span>\",\"<span class=\\\"formatted\\\" title=\\\"\\\"><span class=\\\"numbers\\\">90</span></span>\",\"<span class=\\\"formatted\\\" title=\\\"\\\"><span class=\\\"null\\\">null</span></span>\",\"<span class=\\\"formatted\\\" title=\\\"\\\"><span class=\\\"null\\\">null</span></span>\",\"<span class=\\\"formatted\\\" title=\\\"\\\"><span class=\\\"null\\\">null</span></span>\"] }, \n",
       "{ name: \"<span title=\\\"person: DataRow\\\">person</span>\", children: [0, 1, 2], rightAlign: false, values: [\"<span class=\\\"formatted\\\" title=\\\"age: 15\\nname: Alice\\nweight: 54\\\"><span class=\\\"structural\\\">{ </span><span class=\\\"structural\\\">age: </span><span class=\\\"numbers\\\">15</span><span class=\\\"structural\\\">, </span><span class=\\\"structural\\\">name: </span>Alice<span class=\\\"structural\\\">, </span><span class=\\\"structural\\\">weight: </span><span class=\\\"numbers\\\">54</span><span class=\\\"structural\\\"> }</span></span>\",\"<span class=\\\"formatted\\\" title=\\\"age: 45\\nname: Bob\\nweight: 87\\\"><span class=\\\"structural\\\">{ </span><span class=\\\"structural\\\">age: </span><span class=\\\"numbers\\\">45</span><span class=\\\"structural\\\">, </span><span class=\\\"structural\\\">name: </span>Bob<span class=\\\"structural\\\">, </span><span class=\\\"structural\\\">weight: </span><span class=\\\"numbers\\\">87</span><span class=\\\"structural\\\"> }</span></span>\",\"<span class=\\\"formatted\\\" title=\\\"age: 20\\nname: Charlie\\\"><span class=\\\"structural\\\">{ </span><span class=\\\"structural\\\">age: </span><span class=\\\"numbers\\\">20</span><span class=\\\"structural\\\">, </span><span class=\\\"structural\\\">name: </span>Charlie<span class=\\\"structural\\\"> }</span></span>\",\"<span class=\\\"formatted\\\" title=\\\"age: 40\\nname: Charlie\\\"><span class=\\\"structural\\\">{ </span><span class=\\\"structural\\\">age: </span><span class=\\\"numbers\\\">40</span><span class=\\\"structural\\\">, </span><span class=\\\"structural\\\">name: </span>Charlie<span class=\\\"structural\\\"> }</span></span>\",\"<span class=\\\"formatted\\\" title=\\\"age: 30\\nname: Bob\\nweight: 68\\\"><span class=\\\"structural\\\">{ </span><span class=\\\"structural\\\">age: </span><span class=\\\"numbers\\\">30</span><span class=\\\"structural\\\">, </span><span class=\\\"structural\\\">name: </span>Bob<span class=\\\"structural\\\">, </span><span class=\\\"structural\\\">weight: </span><span class=\\\"numbers\\\">68</span><span class=\\\"structural\\\"> }</span></span>\",\"<span class=\\\"formatted\\\" title=\\\"age: 20\\nname: Alice\\nweight: 55\\\"><span class=\\\"structural\\\">{ </span><span class=\\\"structural\\\">age: </span><span class=\\\"numbers\\\">20</span><span class=\\\"structural\\\">, </span><span class=\\\"structural\\\">name: </span>Alice<span class=\\\"structural\\\">, </span><span class=\\\"structural\\\">weight: </span><span class=\\\"numbers\\\">55</span><span class=\\\"structural\\\"> }</span></span>\",\"<span class=\\\"formatted\\\" title=\\\"age: 30\\nname: Charlie\\nweight: 90\\\"><span class=\\\"structural\\\">{ </span><span class=\\\"structural\\\">age: </span><span class=\\\"numbers\\\">30</span><span class=\\\"structural\\\">, </span><span class=\\\"structural\\\">name: </span>Charlie<span class=\\\"structural\\\">, </span><span class=\\\"structural\\\">weight: </span><span class=\\\"numbers\\\">90</span><span class=\\\"structural\\\"> }</span></span>\",\"<span class=\\\"formatted\\\" title=\\\"age: 32.6\\\"><span class=\\\"structural\\\">{ </span><span class=\\\"structural\\\">age: </span><span class=\\\"numbers\\\">32.6</span><span class=\\\"structural\\\"> }</span></span>\",\"<span class=\\\"formatted\\\" title=\\\"age: 56.3\\\"><span class=\\\"structural\\\">{ </span><span class=\\\"structural\\\">age: </span><span class=\\\"numbers\\\">56.3</span><span class=\\\"structural\\\"> }</span></span>\",\"<span class=\\\"formatted\\\" title=\\\"\\\"><span class=\\\"null\\\">{ }</span></span>\"] }, \n",
       "{ name: \"<span title=\\\"city: String?\\\">city</span>\", children: [], rightAlign: false, values: [\"London\",\"Dubai\",\"Moscow\",\"Milan\",\"Tokyo\",\"<span class=\\\"formatted\\\" title=\\\"\\\"><span class=\\\"null\\\">null</span></span>\",\"Moscow\",\"<span class=\\\"formatted\\\" title=\\\"\\\"><span class=\\\"null\\\">null</span></span>\",\"<span class=\\\"formatted\\\" title=\\\"\\\"><span class=\\\"null\\\">null</span></span>\",\"<span class=\\\"formatted\\\" title=\\\"\\\"><span class=\\\"null\\\">null</span></span>\"] }, \n",
       "], id: -1526726653, rootId: -1526726653, totalRows: 10 } ) });\n",
       "/*-->*/\n",
       "\n",
       "call_DataFrame(function() { DataFrame.renderTable(-1526726653) });\n",
       "\n",
       "\n",
       "        </script>\n",
       "        </html>"
      ]
     },
     "execution_count": 31,
     "metadata": {},
     "output_type": "execute_result"
    }
   ],
   "source": [
    "df.filter { it.age == 42 }"
   ]
  },
  {
   "cell_type": "code",
   "execution_count": 33,
   "id": "4e06d749",
   "metadata": {},
   "outputs": [
    {
     "data": {
      "text/html": [
       "        <html>\n",
       "        <head>\n",
       "            <style type=\"text/css\">\n",
       "                \n",
       "\n",
       "            </style>\n",
       "        </head>\n",
       "        <body>\n",
       "            <table class=\"dataframe\" id=\"df_-1526726652\"></table>\n",
       "\n",
       "<p>DataFrame: rowsCount = 10, columnsCount = 4</p>\n",
       "        </body>\n",
       "        <script>\n",
       "            /*<!--*/\n",
       "call_DataFrame(function() { DataFrame.addTable({ cols: [{ name: \"<span title=\\\"name: String?\\\">name</span>\", children: [], rightAlign: false, values: [\"Alice\",\"Bob\",\"Charlie\",\"Charlie\",\"Bob\",\"Alice\",\"Charlie\",\"<span class=\\\"formatted\\\" title=\\\"\\\"><span class=\\\"null\\\">null</span></span>\",\"<span class=\\\"formatted\\\" title=\\\"\\\"><span class=\\\"null\\\">null</span></span>\",\"<span class=\\\"formatted\\\" title=\\\"\\\"><span class=\\\"null\\\">null</span></span>\"] }, \n",
       "{ name: \"<span title=\\\"age: String?\\\">age</span>\", children: [], rightAlign: false, values: [\"15\",\"45\",\"20\",\"40\",\"30\",\"20\",\"30\",\"32.6\",\"56.3\",\"<span class=\\\"formatted\\\" title=\\\"\\\"><span class=\\\"null\\\">null</span></span>\"] }, \n",
       "{ name: \"<span title=\\\"city: String?\\\">city</span>\", children: [], rightAlign: false, values: [\"London\",\"Dubai\",\"Moscow\",\"Milan\",\"Tokyo\",\"<span class=\\\"formatted\\\" title=\\\"\\\"><span class=\\\"null\\\">null</span></span>\",\"Moscow\",\"<span class=\\\"formatted\\\" title=\\\"\\\"><span class=\\\"null\\\">null</span></span>\",\"<span class=\\\"formatted\\\" title=\\\"\\\"><span class=\\\"null\\\">null</span></span>\",\"<span class=\\\"formatted\\\" title=\\\"\\\"><span class=\\\"null\\\">null</span></span>\"] }, \n",
       "{ name: \"<span title=\\\"weight: Int?\\\">weight</span>\", children: [], rightAlign: true, values: [\"<span class=\\\"formatted\\\" title=\\\"\\\"><span class=\\\"numbers\\\">54</span></span>\",\"<span class=\\\"formatted\\\" title=\\\"\\\"><span class=\\\"numbers\\\">87</span></span>\",\"<span class=\\\"formatted\\\" title=\\\"\\\"><span class=\\\"null\\\">null</span></span>\",\"<span class=\\\"formatted\\\" title=\\\"\\\"><span class=\\\"null\\\">null</span></span>\",\"<span class=\\\"formatted\\\" title=\\\"\\\"><span class=\\\"numbers\\\">68</span></span>\",\"<span class=\\\"formatted\\\" title=\\\"\\\"><span class=\\\"numbers\\\">55</span></span>\",\"<span class=\\\"formatted\\\" title=\\\"\\\"><span class=\\\"numbers\\\">90</span></span>\",\"<span class=\\\"formatted\\\" title=\\\"\\\"><span class=\\\"null\\\">null</span></span>\",\"<span class=\\\"formatted\\\" title=\\\"\\\"><span class=\\\"null\\\">null</span></span>\",\"<span class=\\\"formatted\\\" title=\\\"\\\"><span class=\\\"null\\\">null</span></span>\"] }, \n",
       "], id: -1526726652, rootId: -1526726652, totalRows: 10 } ) });\n",
       "/*-->*/\n",
       "\n",
       "call_DataFrame(function() { DataFrame.renderTable(-1526726652) });\n",
       "\n",
       "\n",
       "        </script>\n",
       "        </html>"
      ]
     },
     "execution_count": 33,
     "metadata": {},
     "output_type": "execute_result"
    }
   ],
   "source": [
    "merged.convert { age }.to<String?>() // could be not String, but Convert.String (more typesafety)"
   ]
  },
  {
   "cell_type": "code",
   "execution_count": 34,
   "id": "e88e5600",
   "metadata": {},
   "outputs": [
    {
     "data": {
      "text/plain": [
       "\n",
       "    import org.jetbrains.kotlinx.dataframe.*\n",
       "    import org.jetbrains.kotlinx.dataframe.api.*\n",
       "    import org.jetbrains.kotlinx.dataframe.annotations.*\n",
       "    import org.jetbrains.kotlinx.dataframe.plugin.testing.*\n",
       "    import org.jetbrains.kotlinx.dataframe.plugin.testing.atoms.*\n",
       "    \n",
       "    @DataSchema\n",
       "interface Convert7 {\n",
       "    val age: Number?\n",
       "    val city: String?\n",
       "    val name: String?\n",
       "    val weight: Int?\n",
       "}\n",
       "\n",
       "val ColumnsContainer<Convert7>.age: DataColumn<Number?>  get() = this[\"age\"] as DataColumn<Number?>\n",
       "val DataRow<Convert7>.age: Number?  get() = this[\"age\"] as Number?\n",
       "val ColumnsContainer<Convert7>.city: DataColumn<String?>  get() = this[\"city\"] as DataColumn<String?>\n",
       "val DataRow<Convert7>.city: String?  get() = this[\"city\"] as String?\n",
       "val ColumnsContainer<Convert7>.name: DataColumn<String?>  get() = this[\"name\"] as DataColumn<String?>\n",
       "val DataRow<Convert7>.name: String?  get() = this[\"name\"] as String?\n",
       "val ColumnsContainer<Convert7>.weight: DataColumn<Int?>  get() = this[\"weight\"] as DataColumn<Int?>\n",
       "val DataRow<Convert7>.weight: Int?  get() = this[\"weight\"] as Int?\n",
       "    \n",
       "    fun convert7(df: DataFrame<Convert7>) {\n",
       "        \n",
       "    }\n",
       "    "
      ]
     },
     "execution_count": 34,
     "metadata": {},
     "output_type": "execute_result"
    }
   ],
   "source": [
    "merged.generateTestStub(7)"
   ]
  },
  {
   "cell_type": "code",
   "execution_count": null,
   "id": "11b615b6",
   "metadata": {},
   "outputs": [],
   "source": []
  }
 ],
 "metadata": {
  "kernelspec": {
   "display_name": "Kotlin",
   "language": "kotlin",
   "name": "kotlin"
  },
  "language_info": {
   "codemirror_mode": "text/x-kotlin",
   "file_extension": ".kt",
   "mimetype": "text/x-kotlin",
   "name": "kotlin",
   "nbconvert_exporter": "",
   "pygments_lexer": "kotlin",
   "version": "1.7.20-dev-1299"
  }
 },
 "nbformat": 4,
 "nbformat_minor": 5
}
