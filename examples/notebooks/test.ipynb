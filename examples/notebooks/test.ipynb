{
 "cells": [
  {
   "cell_type": "code",
   "execution_count": 2,
   "metadata": {
    "collapsed": true,
    "ExecuteTime": {
     "end_time": "2023-10-09T14:19:18.462968860Z",
     "start_time": "2023-10-09T14:18:54.228754002Z"
    }
   },
   "outputs": [],
   "source": [
    "%use dataframe"
   ]
  },
  {
   "cell_type": "code",
   "execution_count": 10,
   "outputs": [],
   "source": [
    "import org.intellij.lang.annotations.Language\n",
    "\n",
    "@Language(\"json\")\n",
    "val json = \"\"\"\n",
    "    [\n",
    "        { \"a\": 1 },\n",
    "        { \"a\": \"hi\" }\n",
    "    ]\n",
    "\"\"\"\n",
    "\n",
    "val df = DataFrame.readJsonStr(json)"
   ],
   "metadata": {
    "collapsed": false,
    "ExecuteTime": {
     "end_time": "2023-10-09T14:40:24.265470515Z",
     "start_time": "2023-10-09T14:40:23.670727538Z"
    }
   }
  },
  {
   "cell_type": "code",
   "execution_count": 12,
   "outputs": [
    {
     "name": "stdout",
     "output_type": "stream",
     "text": [
      "   a:Comparable\n",
      " 0            1\n",
      " 1            2\n",
      " 2          hoi\n"
     ]
    }
   ],
   "source": [
    " df.print(columnTypes = true)"
   ],
   "metadata": {
    "collapsed": false,
    "ExecuteTime": {
     "end_time": "2023-10-09T14:41:09.807511351Z",
     "start_time": "2023-10-09T14:41:09.697587536Z"
    }
   }
  },
  {
   "cell_type": "code",
   "execution_count": null,
   "outputs": [],
   "source": [
    "val a = listOf(1.0, \"\")"
   ],
   "metadata": {
    "collapsed": false
   }
  }
 ],
 "metadata": {
  "kernelspec": {
   "display_name": "Kotlin",
   "language": "kotlin",
   "name": "kotlin"
  },
  "language_info": {
   "name": "kotlin",
   "version": "1.9.0",
   "mimetype": "text/x-kotlin",
   "file_extension": ".kt",
   "pygments_lexer": "kotlin",
   "codemirror_mode": "text/x-kotlin",
   "nbconvert_exporter": ""
  }
 },
 "nbformat": 4,
 "nbformat_minor": 0
}
