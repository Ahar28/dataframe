{
 "cells": [
  {
   "cell_type": "code",
   "execution_count": 1,
   "metadata": {
    "ExecuteTime": {
     "end_time": "2023-09-13T18:30:51.126264114Z",
     "start_time": "2023-09-13T18:30:44.006307895Z"
    }
   },
   "outputs": [
    {
     "name": "stderr",
     "output_type": "stream",
     "text": [
      "The problem is found in one of the loaded libraries: check library imports, dependencies and repositories\n",
      "Error compiling code:\n",
      "@file:Repository(\"https://oss.sonatype.org/service/local/repo_groups/public/content\")\n",
      "@file:DependsOn(\"org.jetbrains.kotlinx:dataframe:0.11.1\")\n",
      "\n",
      "\n",
      "Errors:\n",
      "java.lang.ThreadDeath\n",
      "\n",
      "org.jetbrains.kotlinx.jupyter.exceptions.ReplLibraryException: The problem is found in one of the loaded libraries: check library imports, dependencies and repositories\n",
      "\tat org.jetbrains.kotlinx.jupyter.exceptions.ReplLibraryExceptionKt.rethrowAsLibraryException(ReplLibraryException.kt:32)\n",
      "\tat org.jetbrains.kotlinx.jupyter.repl.impl.CellExecutorImpl$ExecutionContext.doAddLibraries(CellExecutorImpl.kt:147)\n",
      "\tat org.jetbrains.kotlinx.jupyter.repl.impl.CellExecutorImpl$ExecutionContext.addLibraries(CellExecutorImpl.kt:182)\n",
      "\tat org.jetbrains.kotlinx.jupyter.api.KotlinKernelHost$DefaultImpls.addLibrary(KotlinKernelHost.kt:42)\n",
      "\tat org.jetbrains.kotlinx.jupyter.repl.impl.CellExecutorImpl$ExecutionContext.addLibrary(CellExecutorImpl.kt:126)\n",
      "\tat org.jetbrains.kotlinx.jupyter.repl.impl.CellExecutorImpl.execute(CellExecutorImpl.kt:63)\n",
      "\tat org.jetbrains.kotlinx.jupyter.repl.CellExecutor$DefaultImpls.execute$default(CellExecutor.kt:15)\n",
      "\tat org.jetbrains.kotlinx.jupyter.ReplForJupyterImpl$evalEx$1.invoke(repl.kt:479)\n",
      "\tat org.jetbrains.kotlinx.jupyter.ReplForJupyterImpl$evalEx$1.invoke(repl.kt:470)\n",
      "\tat org.jetbrains.kotlinx.jupyter.ReplForJupyterImpl.withEvalContext(repl.kt:433)\n",
      "\tat org.jetbrains.kotlinx.jupyter.ReplForJupyterImpl.evalEx(repl.kt:470)\n",
      "\tat org.jetbrains.kotlinx.jupyter.messaging.ProtocolKt$shellMessagesHandler$2$res$1.invoke(protocol.kt:318)\n",
      "\tat org.jetbrains.kotlinx.jupyter.messaging.ProtocolKt$shellMessagesHandler$2$res$1.invoke(protocol.kt:312)\n",
      "\tat org.jetbrains.kotlinx.jupyter.JupyterExecutorImpl$runExecution$execThread$1.invoke(execution.kt:37)\n",
      "\tat org.jetbrains.kotlinx.jupyter.JupyterExecutorImpl$runExecution$execThread$1.invoke(execution.kt:32)\n",
      "\tat kotlin.concurrent.ThreadsKt$thread$thread$1.run(Thread.kt:30)\n",
      "Caused by: org.jetbrains.kotlinx.jupyter.exceptions.ReplCompilerException: java.lang.ThreadDeath\n",
      "\tat org.jetbrains.kotlinx.jupyter.repl.impl.JupyterCompilerImpl.compileSync(JupyterCompilerImpl.kt:174)\n",
      "\tat org.jetbrains.kotlinx.jupyter.repl.impl.InternalEvaluatorImpl.eval(InternalEvaluatorImpl.kt:99)\n",
      "\tat org.jetbrains.kotlinx.jupyter.repl.impl.CellExecutorImpl$execute$1$result$1.invoke(CellExecutorImpl.kt:75)\n",
      "\tat org.jetbrains.kotlinx.jupyter.repl.impl.CellExecutorImpl$execute$1$result$1.invoke(CellExecutorImpl.kt:73)\n",
      "\tat org.jetbrains.kotlinx.jupyter.ReplForJupyterImpl.withHost(repl.kt:666)\n",
      "\tat org.jetbrains.kotlinx.jupyter.repl.impl.CellExecutorImpl.execute(CellExecutorImpl.kt:73)\n",
      "\tat org.jetbrains.kotlinx.jupyter.repl.CellExecutor$DefaultImpls.execute$default(CellExecutor.kt:15)\n",
      "\tat org.jetbrains.kotlinx.jupyter.repl.impl.CellExecutorImpl$ExecutionContext.execute(CellExecutorImpl.kt:220)\n",
      "\tat org.jetbrains.kotlinx.jupyter.api.libraries.CodeExecutionCallback.invoke(CodeExecutionCallback.kt:8)\n",
      "\tat org.jetbrains.kotlinx.jupyter.api.libraries.CodeExecutionCallback.invoke(CodeExecutionCallback.kt:6)\n",
      "\tat org.jetbrains.kotlinx.jupyter.repl.impl.CellExecutorImpl$ExecutionContext.execute(CellExecutorImpl.kt:242)\n",
      "\tat org.jetbrains.kotlinx.jupyter.repl.impl.CellExecutorImpl$ExecutionContext.runChild(CellExecutorImpl.kt:140)\n",
      "\tat org.jetbrains.kotlinx.jupyter.repl.impl.CellExecutorImpl$ExecutionContext.runChild(CellExecutorImpl.kt:136)\n",
      "\tat org.jetbrains.kotlinx.jupyter.repl.impl.CellExecutorImpl$ExecutionContext.access$runChild(CellExecutorImpl.kt:126)\n",
      "\tat org.jetbrains.kotlinx.jupyter.repl.impl.CellExecutorImpl$ExecutionContext$doAddLibraries$1.invoke(CellExecutorImpl.kt:148)\n",
      "\tat org.jetbrains.kotlinx.jupyter.repl.impl.CellExecutorImpl$ExecutionContext$doAddLibraries$1.invoke(CellExecutorImpl.kt:147)\n",
      "\tat org.jetbrains.kotlinx.jupyter.exceptions.ReplLibraryExceptionKt.rethrowAsLibraryException(ReplLibraryException.kt:30)\n",
      "\t... 15 more\n",
      "Caused by: java.lang.ThreadDeath\n",
      "\tat java.base/java.lang.Thread.stop(Thread.java:937)\n",
      "\tat org.jetbrains.kotlinx.jupyter.JupyterExecutorImpl.interruptExecutions(execution.kt:71)\n",
      "\tat org.jetbrains.kotlinx.jupyter.messaging.ProtocolKt.controlMessagesHandler(protocol.kt:218)\n",
      "\tat org.jetbrains.kotlinx.jupyter.IkotlinKt$kernelServer$1$1.invoke(ikotlin.kt:141)\n",
      "\tat org.jetbrains.kotlinx.jupyter.IkotlinKt$kernelServer$1$1.invoke(ikotlin.kt:140)\n",
      "\tat org.jetbrains.kotlinx.jupyter.protocol.AbstractJupyterConnection$addMessageCallback$socketCallback$1.invoke(AbstractJupyterConnection.kt:18)\n",
      "\tat org.jetbrains.kotlinx.jupyter.protocol.AbstractJupyterConnection$addMessageCallback$socketCallback$1.invoke(AbstractJupyterConnection.kt:16)\n",
      "\tat org.jetbrains.kotlinx.jupyter.protocol.SocketWrapper.runCallbacksOnMessage(SocketWrapper.kt:62)\n",
      "\tat org.jetbrains.kotlinx.jupyter.IkotlinKt$kernelServer$1$controlThread$1$1.invoke(ikotlin.kt:154)\n",
      "\tat org.jetbrains.kotlinx.jupyter.IkotlinKt$kernelServer$1$controlThread$1$1.invoke(ikotlin.kt:153)\n",
      "\tat org.jetbrains.kotlinx.jupyter.IkotlinKt.kernelServer$lambda$6$socketLoop(ikotlin.kt:130)\n",
      "\tat org.jetbrains.kotlinx.jupyter.IkotlinKt.access$kernelServer$lambda$6$socketLoop(ikotlin.kt:1)\n",
      "\tat org.jetbrains.kotlinx.jupyter.IkotlinKt$kernelServer$1$controlThread$1.invoke(ikotlin.kt:153)\n",
      "\tat org.jetbrains.kotlinx.jupyter.IkotlinKt$kernelServer$1$controlThread$1.invoke(ikotlin.kt:152)\n",
      "\t... 1 more\n",
      "\n"
     ]
    }
   ],
   "source": [
    "%useLatestDescriptors\n",
    "%use dataframe, lets-plot"
   ]
  },
  {
   "cell_type": "code",
   "execution_count": 2,
   "metadata": {
    "ExecuteTime": {
     "start_time": "2023-09-13T18:30:51.122427739Z"
    }
   },
   "outputs": [
    {
     "name": "stderr",
     "output_type": "stream",
     "text": [
      "Line_2.jupyter.kts (1:10 - 19) Unresolved reference: DataFrame\n",
      "Line_2.jupyter.kts (1:135 - 148) Unresolved reference: ParserOptions"
     ]
    }
   ],
   "source": [
    "var df = DataFrame.readCSV(fileOrUrl = \"../../idea-examples/titanic/src/main/resources/titanic.csv\", delimiter = ';', parserOptions = ParserOptions(locale = java.util.Locale.FRENCH))\n",
    "\n",
    "df.head()"
   ]
  },
  {
   "cell_type": "markdown",
   "metadata": {},
   "source": [
    "We have a dataset which uses an alternative pattern for decimal numbers. This is a reason why the French locale will be used in the example.\n",
    "\n",
    "But before data conversion, we should to handle *null* values."
   ]
  },
  {
   "cell_type": "code",
   "execution_count": 3,
   "metadata": {
    "ExecuteTime": {
     "end_time": "2023-09-13T18:30:51.459401875Z",
     "start_time": "2023-09-13T18:30:51.357683561Z"
    }
   },
   "outputs": [
    {
     "name": "stderr",
     "output_type": "stream",
     "text": [
      "Line_3.jupyter.kts (1:1 - 3) Unresolved reference: df"
     ]
    }
   ],
   "source": [
    "df.describe()"
   ]
  },
  {
   "cell_type": "code",
   "execution_count": 4,
   "metadata": {
    "ExecuteTime": {
     "start_time": "2023-09-13T18:30:51.398198098Z"
    }
   },
   "outputs": [
    {
     "name": "stderr",
     "output_type": "stream",
     "text": [
      "Line_4.jupyter.kts (1:1 - 3) Unresolved reference: df"
     ]
    }
   ],
   "source": [
    "df"
   ]
  },
  {
   "cell_type": "markdown",
   "metadata": {},
   "source": [
    "# Imputing null values\n",
    "Let's convert all columns of our dataset to non-nullable and impute null values based on mean values."
   ]
  },
  {
   "cell_type": "code",
   "execution_count": 5,
   "metadata": {
    "ExecuteTime": {
     "start_time": "2023-09-13T18:30:51.428634759Z"
    }
   },
   "outputs": [
    {
     "name": "stderr",
     "output_type": "stream",
     "text": [
      "Line_5.jupyter.kts (1:11 - 13) Unresolved reference: df\n",
      "Line_5.jupyter.kts (3:18 - 23) Unresolved reference: sibsp\n",
      "Line_5.jupyter.kts (3:28 - 33) Unresolved reference: parch\n",
      "Line_5.jupyter.kts (3:38 - 41) Unresolved reference: age\n",
      "Line_5.jupyter.kts (3:46 - 50) Unresolved reference: fare\n",
      "Line_5.jupyter.kts (3:62 - 66) Unresolved reference: mean\n",
      "Line_5.jupyter.kts (4:18 - 21) Unresolved reference: sex\n",
      "Line_5.jupyter.kts (5:18 - 26) Unresolved reference: embarked\n",
      "Line_5.jupyter.kts (6:16 - 21) Unresolved reference: sibsp\n",
      "Line_5.jupyter.kts (6:26 - 31) Unresolved reference: parch\n",
      "Line_5.jupyter.kts (6:36 - 39) Unresolved reference: age\n",
      "Line_5.jupyter.kts (6:44 - 48) Unresolved reference: fare"
     ]
    }
   ],
   "source": [
    "val df1 = df\n",
    "    // imputing\n",
    "    .fillNulls { sibsp and parch and age and fare }.perCol { mean() }\n",
    "    .fillNulls { sex }.with { \"female\" }\n",
    "    .fillNulls { embarked }.with { \"S\" }\n",
    "    .convert { sibsp and parch and age and fare }.toDouble()\n",
    "\n",
    "df1.head()"
   ]
  },
  {
   "cell_type": "code",
   "execution_count": 6,
   "metadata": {
    "ExecuteTime": {
     "end_time": "2023-09-13T18:30:51.782401389Z",
     "start_time": "2023-09-13T18:30:51.674835830Z"
    }
   },
   "outputs": [
    {
     "name": "stderr",
     "output_type": "stream",
     "text": [
      "Line_6.jupyter.kts (1:1 - 4) Unresolved reference: df1"
     ]
    }
   ],
   "source": [
    "df1.schema()"
   ]
  },
  {
   "cell_type": "code",
   "execution_count": 7,
   "metadata": {
    "ExecuteTime": {
     "start_time": "2023-09-13T18:30:51.713192374Z"
    }
   },
   "outputs": [
    {
     "name": "stderr",
     "output_type": "stream",
     "text": [
      "Line_7.jupyter.kts (1:1 - 4) Unresolved reference: df1"
     ]
    }
   ],
   "source": [
    "df1.corr()"
   ]
  },
  {
   "cell_type": "code",
   "execution_count": 8,
   "metadata": {
    "ExecuteTime": {
     "start_time": "2023-09-13T18:30:51.748632540Z"
    }
   },
   "outputs": [
    {
     "name": "stderr",
     "output_type": "stream",
     "text": [
      "Line_8.jupyter.kts (1:20 - 23) Unresolved reference: df1\n",
      "Line_8.jupyter.kts (1:31 - 34) Unresolved reference. None of the following candidates is applicable because of receiver type mismatch: \n",
      "public inline fun <T> Array<out TypeVariable(T)>.all(predicate: (TypeVariable(T)) -> Boolean): Boolean defined in kotlin.collections\n",
      "public inline fun BooleanArray.all(predicate: (Boolean) -> Boolean): Boolean defined in kotlin.collections\n",
      "public inline fun ByteArray.all(predicate: (Byte) -> Boolean): Boolean defined in kotlin.collections\n",
      "public inline fun CharArray.all(predicate: (Char) -> Boolean): Boolean defined in kotlin.collections\n",
      "public inline fun CharSequence.all(predicate: (Char) -> Boolean): Boolean defined in kotlin.text\n",
      "public inline fun DoubleArray.all(predicate: (Double) -> Boolean): Boolean defined in kotlin.collections\n",
      "public inline fun FloatArray.all(predicate: (Float) -> Boolean): Boolean defined in kotlin.collections\n",
      "public inline fun IntArray.all(predicate: (Int) -> Boolean): Boolean defined in kotlin.collections\n",
      "public inline fun LongArray.all(predicate: (Long) -> Boolean): Boolean defined in kotlin.collections\n",
      "public inline fun ShortArray.all(predicate: (Short) -> Boolean): Boolean defined in kotlin.collections\n",
      "public inline fun UByteArray.all(predicate: (UByte) -> Boolean): Boolean defined in kotlin.collections\n",
      "public inline fun UIntArray.all(predicate: (UInt) -> Boolean): Boolean defined in kotlin.collections\n",
      "public inline fun ULongArray.all(predicate: (ULong) -> Boolean): Boolean defined in kotlin.collections\n",
      "public inline fun UShortArray.all(predicate: (UShort) -> Boolean): Boolean defined in kotlin.collections\n",
      "public inline fun <T> Iterable<TypeVariable(T)>.all(predicate: (TypeVariable(T)) -> Boolean): Boolean defined in kotlin.collections\n",
      "public inline fun <K, V> Map<out TypeVariable(K), TypeVariable(V)>.all(predicate: (Map.Entry<TypeVariable(K), TypeVariable(V)>) -> Boolean): Boolean defined in kotlin.collections\n",
      "public inline fun <T> Sequence<TypeVariable(T)>.all(predicate: (TypeVariable(T)) -> Boolean): Boolean defined in kotlin.sequences\n",
      "Line_8.jupyter.kts (1:46 - 54) Unresolved reference: survived\n",
      "Line_8.jupyter.kts (2:15 - 23) Unresolved reference: survived"
     ]
    }
   ],
   "source": [
    "val correlations = df1.corr { all() }.with { survived }\n",
    "    .sortBy { survived }\n",
    "correlations"
   ]
  },
  {
   "cell_type": "markdown",
   "metadata": {},
   "source": [
    "Great, at this moment we have 5 numerical features available for numerical analysis: **pclass, age, sibsp, parch, fare**."
   ]
  },
  {
   "cell_type": "markdown",
   "metadata": {},
   "source": [
    "# Analyze by pivoting features\n",
    "To confirm some of our observations and assumptions, we can quickly analyze our feature correlations by pivoting features against each other. We can only do so at this stage for features which do not have any empty values. It also makes sense doing so only for features which are categorical (Sex), ordinal (Pclass) or discrete (SibSp, Parch) type.\n",
    "\n",
    "- **Pclass**: We observe significant correlation (>0.5) among **Pclass**=1 and **Survived**.\n",
    "\n",
    "- **Sex**: We confirm the observation during problem definition that Sex=female had a very high survival rate at 74%.\n",
    "\n",
    "- **SibSp** and **Parch**: These features have zero correlation for the certain values. It may be best to derive a feature or a set of features from these individual features."
   ]
  },
  {
   "cell_type": "code",
   "execution_count": 9,
   "metadata": {
    "ExecuteTime": {
     "end_time": "2023-09-13T18:30:52.034001383Z",
     "start_time": "2023-09-13T18:30:51.936448623Z"
    }
   },
   "outputs": [
    {
     "name": "stderr",
     "output_type": "stream",
     "text": [
      "Line_9.jupyter.kts (1:1 - 4) Unresolved reference: df1\n",
      "Line_9.jupyter.kts (1:15 - 21) Unresolved reference: pclass\n",
      "Line_9.jupyter.kts (1:31 - 39) Unresolved reference: survived\n",
      "Line_9.jupyter.kts (1:51 - 57) Unresolved reference: pclass"
     ]
    }
   ],
   "source": [
    "df1.groupBy { pclass }.mean { survived }.sortBy { pclass }"
   ]
  },
  {
   "cell_type": "code",
   "execution_count": 10,
   "metadata": {
    "ExecuteTime": {
     "start_time": "2023-09-13T18:30:52.000046992Z"
    }
   },
   "outputs": [
    {
     "name": "stderr",
     "output_type": "stream",
     "text": [
      "Line_10.jupyter.kts (1:1 - 4) Unresolved reference: df1\n",
      "Line_10.jupyter.kts (1:15 - 18) Unresolved reference: sex\n",
      "Line_10.jupyter.kts (1:28 - 36) Unresolved reference: survived\n",
      "Line_10.jupyter.kts (1:48 - 56) Unresolved reference: survived"
     ]
    }
   ],
   "source": [
    "df1.groupBy { sex }.mean { survived }.sortBy { survived }"
   ]
  },
  {
   "cell_type": "code",
   "execution_count": 11,
   "metadata": {
    "ExecuteTime": {
     "end_time": "2023-09-13T18:30:52.155674495Z",
     "start_time": "2023-09-13T18:30:52.063116879Z"
    }
   },
   "outputs": [
    {
     "name": "stderr",
     "output_type": "stream",
     "text": [
      "Line_11.jupyter.kts (1:1 - 4) Unresolved reference: df1\n",
      "Line_11.jupyter.kts (1:15 - 20) Unresolved reference: sibsp\n",
      "Line_11.jupyter.kts (1:30 - 38) Unresolved reference: survived\n",
      "Line_11.jupyter.kts (1:50 - 55) Unresolved reference: sibsp"
     ]
    }
   ],
   "source": [
    "df1.groupBy { sibsp }.mean { survived }.sortBy { sibsp }"
   ]
  },
  {
   "cell_type": "code",
   "execution_count": 12,
   "metadata": {
    "ExecuteTime": {
     "start_time": "2023-09-13T18:30:52.115861316Z"
    }
   },
   "outputs": [
    {
     "name": "stderr",
     "output_type": "stream",
     "text": [
      "Line_12.jupyter.kts (1:1 - 4) Unresolved reference: df1\n",
      "Line_12.jupyter.kts (1:15 - 20) Unresolved reference: parch\n",
      "Line_12.jupyter.kts (1:30 - 38) Unresolved reference: survived\n",
      "Line_12.jupyter.kts (1:50 - 55) Unresolved reference: parch"
     ]
    }
   ],
   "source": [
    "df1.groupBy { parch }.mean { survived }.sortBy { parch }"
   ]
  },
  {
   "cell_type": "markdown",
   "metadata": {},
   "source": [
    "# Analyze the importance of the Age feature\n",
    "\n",
    "It's interesting to discover both **age** distributions: among survived and not survived passengers."
   ]
  },
  {
   "cell_type": "code",
   "execution_count": 13,
   "metadata": {
    "ExecuteTime": {
     "end_time": "2023-09-13T18:30:52.304309829Z",
     "start_time": "2023-09-13T18:30:52.166707741Z"
    }
   },
   "outputs": [
    {
     "name": "stderr",
     "output_type": "stream",
     "text": [
      "Line_13.jupyter.kts (1:13 - 16) Unresolved reference: df1\n",
      "Line_13.jupyter.kts (1:31 - 34) Unresolved reference: age\n",
      "Line_13.jupyter.kts (1:46 - 49) Unresolved reference: age"
     ]
    }
   ],
   "source": [
    "val byAge = df1.valueCounts { age }.sortBy { age }\n",
    "byAge"
   ]
  },
  {
   "cell_type": "code",
   "execution_count": 14,
   "metadata": {
    "ExecuteTime": {
     "end_time": "2023-09-13T18:30:52.456740103Z",
     "start_time": "2023-09-13T18:30:52.214937926Z"
    }
   },
   "outputs": [],
   "source": [
    "// JetBrains color palette\n",
    "val colors = mapOf(\"light_orange\" to \"#ffb59e\", \"orange\" to \"#ff6632\", \"light_grey\" to \"#a6a6a6\", \"dark_grey\" to \"#4c4c4c\")"
   ]
  },
  {
   "cell_type": "code",
   "execution_count": 15,
   "metadata": {
    "ExecuteTime": {
     "end_time": "2023-09-13T18:30:52.575671724Z",
     "start_time": "2023-09-13T18:30:52.454289844Z"
    }
   },
   "outputs": [
    {
     "name": "stderr",
     "output_type": "stream",
     "text": [
      "Line_15.jupyter.kts (1:1 - 9) Unresolved reference: letsPlot\n",
      "Line_15.jupyter.kts (1:10 - 15) Unresolved reference: byAge\n",
      "Line_15.jupyter.kts (1:27 - 28) Unresolved reference: x\n",
      "Line_15.jupyter.kts (1:38 - 39) Unresolved reference: y\n",
      "Line_15.jupyter.kts (2:5 - 14) Unresolved reference: geomPoint\n",
      "Line_15.jupyter.kts (3:5 - 11) Unresolved reference: ggsize"
     ]
    }
   ],
   "source": [
    "letsPlot(byAge.toMap()) { x = \"age\"; y = \"count\" } + \n",
    "    geomPoint(size = 5, color = colors[\"dark_grey\"]) +\n",
    "    ggsize(850, 500)"
   ]
  },
  {
   "cell_type": "code",
   "execution_count": 16,
   "metadata": {
    "ExecuteTime": {
     "start_time": "2023-09-13T18:30:52.562181055Z"
    }
   },
   "outputs": [
    {
     "name": "stderr",
     "output_type": "stream",
     "text": [
      "Line_16.jupyter.kts (1:11 - 13) Unresolved reference: df\n",
      "Line_16.jupyter.kts (1:23 - 26) Type checking has run into a recursive problem. Easiest workaround: specify types of your declarations explicitly\n",
      "Line_16.jupyter.kts (1:50 - 53) Type checking has run into a recursive problem. Easiest workaround: specify types of your declarations explicitly. This will become an error in Kotlin 1.7\n",
      "Line_16.jupyter.kts (1:50 - 53) Variable 'age' must be initialized\n",
      "Line_16.jupyter.kts (3:1 - 9) Unresolved reference: letsPlot\n",
      "Line_16.jupyter.kts (3:25 - 26) Unresolved reference: x\n",
      "Line_16.jupyter.kts (3:39 - 52) Unresolved reference: geomHistogram\n",
      "Line_16.jupyter.kts (3:92 - 98) Unresolved reference: ggsize"
     ]
    }
   ],
   "source": [
    "val age = df.select { age }.dropNulls().sortBy { age }\n",
    "\n",
    "letsPlot(age.toMap()) { x = \"age\" } + geomHistogram(binWidth=5, fill = colors[\"orange\"]) + ggsize(850, 500)"
   ]
  },
  {
   "cell_type": "markdown",
   "metadata": {},
   "source": []
  },
  {
   "cell_type": "code",
   "execution_count": 17,
   "metadata": {
    "ExecuteTime": {
     "end_time": "2023-09-13T18:30:52.736884509Z",
     "start_time": "2023-09-13T18:30:52.654616993Z"
    }
   },
   "outputs": [
    {
     "name": "stderr",
     "output_type": "stream",
     "text": [
      "Line_17.jupyter.kts (1:1 - 4) Unresolved reference: df1\n",
      "Line_17.jupyter.kts (1:15 - 18) Unresolved reference: age\n",
      "Line_17.jupyter.kts (1:35 - 43) Unresolved reference: survived\n",
      "Line_17.jupyter.kts (1:55 - 58) Unresolved reference: age"
     ]
    }
   ],
   "source": [
    "df1.groupBy { age }.pivotCounts { survived }.sortBy { age }"
   ]
  },
  {
   "cell_type": "code",
   "execution_count": 18,
   "metadata": {
    "ExecuteTime": {
     "start_time": "2023-09-13T18:30:52.702746125Z"
    }
   },
   "outputs": [
    {
     "name": "stderr",
     "output_type": "stream",
     "text": [
      "Line_18.jupyter.kts (1:21 - 24) Unresolved reference: df1\n",
      "Line_18.jupyter.kts (1:34 - 42) Unresolved reference: survived\n",
      "Line_18.jupyter.kts (1:47 - 50) Unresolved reference: age\n",
      "Line_18.jupyter.kts (1:62 - 65) Unresolved reference: age"
     ]
    }
   ],
   "source": [
    "val survivedByAge = df1.select { survived and age }.sortBy { age }\n",
    "survivedByAge"
   ]
  },
  {
   "cell_type": "code",
   "execution_count": 19,
   "metadata": {
    "ExecuteTime": {
     "end_time": "2023-09-13T18:30:53.012915616Z",
     "start_time": "2023-09-13T18:30:52.755938910Z"
    }
   },
   "outputs": [
    {
     "name": "stderr",
     "output_type": "stream",
     "text": [
      "Line_19.jupyter.kts (1:12 - 20) Unresolved reference: letsPlot\n",
      "Line_19.jupyter.kts (1:21 - 34) Unresolved reference: survivedByAge\n",
      "Line_19.jupyter.kts (1:45 - 53) Unresolved reference: survived\n",
      "Line_19.jupyter.kts (1:67 - 69) Expression expected, but a package name found\n",
      "Line_19.jupyter.kts (4:5 - 18) Unresolved reference: geomHistogram\n",
      "Line_19.jupyter.kts (4:57 - 70) Unresolved reference: positionDodge\n",
      "Line_19.jupyter.kts (4:76 - 77) Unresolved reference: x\n",
      "Line_19.jupyter.kts (4:87 - 91) Function invocation 'fill(...)' expected\n",
      "Line_19.jupyter.kts (4:87 - 91) Unresolved reference. None of the following candidates is applicable because of receiver type mismatch: \n",
      "public fun <T> Array<TypeVariable(T)>.fill(element: TypeVariable(T), fromIndex: Int = ..., toIndex: Int = ...): Unit defined in kotlin.collections\n",
      "public fun BooleanArray.fill(element: Boolean, fromIndex: Int = ..., toIndex: Int = ...): Unit defined in kotlin.collections\n",
      "public fun ByteArray.fill(element: Byte, fromIndex: Int = ..., toIndex: Int = ...): Unit defined in kotlin.collections\n",
      "public fun CharArray.fill(element: Char, fromIndex: Int = ..., toIndex: Int = ...): Unit defined in kotlin.collections\n",
      "public fun DoubleArray.fill(element: Double, fromIndex: Int = ..., toIndex: Int = ...): Unit defined in kotlin.collections\n",
      "public fun FloatArray.fill(element: Float, fromIndex: Int = ..., toIndex: Int = ...): Unit defined in kotlin.collections\n",
      "public fun IntArray.fill(element: Int, fromIndex: Int = ..., toIndex: Int = ...): Unit defined in kotlin.collections\n",
      "public fun LongArray.fill(element: Long, fromIndex: Int = ..., toIndex: Int = ...): Unit defined in kotlin.collections\n",
      "public fun ShortArray.fill(element: Short, fromIndex: Int = ..., toIndex: Int = ...): Unit defined in kotlin.collections\n",
      "public fun UByteArray.fill(element: UByte, fromIndex: Int = ..., toIndex: Int = ...): Unit defined in kotlin.collections\n",
      "public fun UIntArray.fill(element: UInt, fromIndex: Int = ..., toIndex: Int = ...): Unit defined in kotlin.collections\n",
      "public fun ULongArray.fill(element: ULong, fromIndex: Int = ..., toIndex: Int = ...): Unit defined in kotlin.collections\n",
      "public fun UShortArray.fill(element: UShort, fromIndex: Int = ..., toIndex: Int = ...): Unit defined in kotlin.collections\n",
      "public inline fun <T> MutableList<TypeVariable(T)>.fill(value: TypeVariable(T)): Unit defined in kotlin.collections\n",
      "Line_19.jupyter.kts (5:5 - 20) Unresolved reference: scaleFillManual\n",
      "Line_19.jupyter.kts (6:5 - 11) Unresolved reference: ggsize"
     ]
    }
   ],
   "source": [
    "val plot = letsPlot(survivedByAge.convert { survived }.with { if (it == 1) \"Survived\" else \"Died\" }.toMap())\n",
    "\n",
    "plot +\n",
    "    geomHistogram(binWidth = 5, alpha = 0.7, position = positionDodge()) { x = \"age\"; fill = \"survived\" } +\n",
    "    scaleFillManual(listOf(colors[\"dark_grey\"]!!, colors[\"orange\"]!!)) +\n",
    "    ggsize(850, 500)"
   ]
  },
  {
   "cell_type": "code",
   "execution_count": 20,
   "metadata": {
    "ExecuteTime": {
     "start_time": "2023-09-13T18:30:52.935642336Z"
    }
   },
   "outputs": [
    {
     "name": "stderr",
     "output_type": "stream",
     "text": [
      "Line_20.jupyter.kts (2:1 - 5) Unresolved reference: plot\n",
      "Line_20.jupyter.kts (3:5 - 16) Unresolved reference: geomDensity\n",
      "Line_20.jupyter.kts (3:19 - 20) Unresolved reference: x\n",
      "Line_20.jupyter.kts (3:28 - 33) Unresolved reference: color\n",
      "Line_20.jupyter.kts (4:5 - 21) Unresolved reference: scaleColorManual\n",
      "Line_20.jupyter.kts (5:5 - 11) Unresolved reference: ggsize"
     ]
    }
   ],
   "source": [
    "// Density plot\n",
    "plot +\n",
    "    geomDensity { x=\"age\"; color=\"survived\" } +\n",
    "    scaleColorManual(listOf(colors[\"dark_grey\"]!!, colors[\"orange\"]!!)) +\n",
    "    ggsize(850, 250)"
   ]
  },
  {
   "cell_type": "code",
   "execution_count": 21,
   "metadata": {
    "ExecuteTime": {
     "start_time": "2023-09-13T18:30:53.009907675Z"
    }
   },
   "outputs": [
    {
     "name": "stderr",
     "output_type": "stream",
     "text": [
      "Line_21.jupyter.kts (2:1 - 5) Unresolved reference: plot\n",
      "Line_21.jupyter.kts (3:5 - 16) Unresolved reference: geomBoxplot\n",
      "Line_21.jupyter.kts (3:19 - 20) Unresolved reference: x\n",
      "Line_21.jupyter.kts (3:33 - 34) Unresolved reference: y\n",
      "Line_21.jupyter.kts (3:42 - 46) Function invocation 'fill(...)' expected\n",
      "Line_21.jupyter.kts (3:42 - 46) Unresolved reference. None of the following candidates is applicable because of receiver type mismatch: \n",
      "public fun <T> Array<TypeVariable(T)>.fill(element: TypeVariable(T), fromIndex: Int = ..., toIndex: Int = ...): Unit defined in kotlin.collections\n",
      "public fun BooleanArray.fill(element: Boolean, fromIndex: Int = ..., toIndex: Int = ...): Unit defined in kotlin.collections\n",
      "public fun ByteArray.fill(element: Byte, fromIndex: Int = ..., toIndex: Int = ...): Unit defined in kotlin.collections\n",
      "public fun CharArray.fill(element: Char, fromIndex: Int = ..., toIndex: Int = ...): Unit defined in kotlin.collections\n",
      "public fun DoubleArray.fill(element: Double, fromIndex: Int = ..., toIndex: Int = ...): Unit defined in kotlin.collections\n",
      "public fun FloatArray.fill(element: Float, fromIndex: Int = ..., toIndex: Int = ...): Unit defined in kotlin.collections\n",
      "public fun IntArray.fill(element: Int, fromIndex: Int = ..., toIndex: Int = ...): Unit defined in kotlin.collections\n",
      "public fun LongArray.fill(element: Long, fromIndex: Int = ..., toIndex: Int = ...): Unit defined in kotlin.collections\n",
      "public fun ShortArray.fill(element: Short, fromIndex: Int = ..., toIndex: Int = ...): Unit defined in kotlin.collections\n",
      "public fun UByteArray.fill(element: UByte, fromIndex: Int = ..., toIndex: Int = ...): Unit defined in kotlin.collections\n",
      "public fun UIntArray.fill(element: UInt, fromIndex: Int = ..., toIndex: Int = ...): Unit defined in kotlin.collections\n",
      "public fun ULongArray.fill(element: ULong, fromIndex: Int = ..., toIndex: Int = ...): Unit defined in kotlin.collections\n",
      "public fun UShortArray.fill(element: UShort, fromIndex: Int = ..., toIndex: Int = ...): Unit defined in kotlin.collections\n",
      "public inline fun <T> MutableList<TypeVariable(T)>.fill(value: TypeVariable(T)): Unit defined in kotlin.collections\n",
      "Line_21.jupyter.kts (4:5 - 20) Unresolved reference: scaleFillManual\n",
      "Line_21.jupyter.kts (5:5 - 11) Unresolved reference: ggsize"
     ]
    }
   ],
   "source": [
    "// A basic box plot\n",
    "plot +\n",
    "    geomBoxplot { x=\"survived\"; y=\"age\"; fill = \"survived\" } +\n",
    "    scaleFillManual(listOf(colors[\"dark_grey\"]!!, colors[\"orange\"]!!)) +\n",
    "    ggsize(500, 400)"
   ]
  },
  {
   "cell_type": "markdown",
   "metadata": {},
   "source": [
    "Seems like we have the same age distribution among survived and not survived passengers."
   ]
  },
  {
   "cell_type": "markdown",
   "metadata": {},
   "source": [
    "# Categorical features with One Hot Encoding\n",
    "\n",
    "To prepare data for the ML algorithms, we should replace all String values in categorical features on numbers. There are a few ways of how to preprocess categorical features, and One Hot Encoding is one of them. We will use [`pivotMatches`](https://kotlin.github.io/dataframe/pivot.html#pivotmatches) operation to convert categorical columns into sets of nested `Boolean` columns per every unique value."
   ]
  },
  {
   "cell_type": "code",
   "execution_count": 22,
   "metadata": {
    "ExecuteTime": {
     "end_time": "2023-09-13T18:30:53.220975512Z",
     "start_time": "2023-09-13T18:30:53.117780223Z"
    }
   },
   "outputs": [
    {
     "name": "stderr",
     "output_type": "stream",
     "text": [
      "Line_22.jupyter.kts (1:15 - 18) Unresolved reference: df1\n",
      "Line_22.jupyter.kts (1:34 - 40) Unresolved reference: pclass\n",
      "Line_22.jupyter.kts (1:45 - 48) Unresolved reference: sex\n",
      "Line_22.jupyter.kts (1:53 - 61) Unresolved reference: embarked"
     ]
    }
   ],
   "source": [
    "val pivoted = df1.pivotMatches { pclass and sex and embarked }\n",
    "pivoted.head()"
   ]
  },
  {
   "cell_type": "code",
   "execution_count": 23,
   "metadata": {
    "ExecuteTime": {
     "start_time": "2023-09-13T18:30:53.177754686Z"
    }
   },
   "outputs": [
    {
     "name": "stderr",
     "output_type": "stream",
     "text": [
      "Line_23.jupyter.kts (1:11 - 18) Unresolved reference: pivoted\n",
      "Line_23.jupyter.kts (3:22 - 30) Unresolved reference: survived\n",
      "Line_23.jupyter.kts (3:35 - 41) Unresolved reference: pclass\n",
      "Line_23.jupyter.kts (3:46 - 51) Unresolved reference: sibsp\n",
      "Line_23.jupyter.kts (3:56 - 61) Unresolved reference: parch\n",
      "Line_23.jupyter.kts (3:66 - 69) Unresolved reference: age\n",
      "Line_23.jupyter.kts (3:74 - 78) Unresolved reference: fare\n",
      "Line_23.jupyter.kts (3:83 - 86) Unresolved reference: sex\n",
      "Line_23.jupyter.kts (3:91 - 99) Unresolved reference: embarked\n",
      "Line_23.jupyter.kts (4:24 - 30) Unresolved reference: allDfs"
     ]
    }
   ],
   "source": [
    "val df2 = pivoted\n",
    "            // feature extraction\n",
    "            .select{ survived and pclass and sibsp and parch and age and fare and sex and embarked}\n",
    "            .convert { colsAtAnyDepth { !it.isColumnGroup() } }.toDouble()\n",
    "\n",
    "df2.head()"
   ]
  },
  {
   "cell_type": "code",
   "execution_count": 24,
   "metadata": {
    "ExecuteTime": {
     "end_time": "2023-09-13T18:30:53.456756600Z",
     "start_time": "2023-09-13T18:30:53.264422808Z"
    }
   },
   "outputs": [
    {
     "name": "stderr",
     "output_type": "stream",
     "text": [
      "Line_24.jupyter.kts (1:19 - 22) Unresolved reference: df2\n",
      "Line_24.jupyter.kts (3:1 - 7) Unresolved reference: gggrid\n",
      "Line_24.jupyter.kts (5:9 - 17) Unresolved reference: CorrPlot\n",
      "Line_24.jupyter.kts (7:9 - 17) Unresolved reference: CorrPlot\n",
      "Line_24.jupyter.kts (9:9 - 17) Unresolved reference: CorrPlot\n",
      "Line_24.jupyter.kts (11:9 - 17) Unresolved reference: CorrPlot"
     ]
    }
   ],
   "source": [
    "val titanicData = df2.flatten().toMap()\n",
    "\n",
    "gggrid(\n",
    "    listOf(\n",
    "        CorrPlot(titanicData, \"Tiles\").tiles()\n",
    "            .paletteGradient(colors[\"orange\"]!!, colors[\"light_grey\"]!!, colors[\"dark_grey\"]!!).build(),\n",
    "        CorrPlot(titanicData, \"Points\").points()\n",
    "            .paletteGradient(colors[\"orange\"]!!, colors[\"light_grey\"]!!, colors[\"dark_grey\"]!!).build(), \n",
    "        CorrPlot(titanicData, \"Tiles and labels\").tiles().labels()\n",
    "            .paletteGradient(colors[\"orange\"]!!, colors[\"light_grey\"]!!, colors[\"dark_grey\"]!!).build(),\n",
    "        CorrPlot(titanicData, \"Tiles, points and labels\").points().labels().tiles()\n",
    "            .paletteGradient(colors[\"orange\"]!!, colors[\"light_grey\"]!!, colors[\"dark_grey\"]!!).build()\n",
    "    ), 1, 700, 600)"
   ]
  },
  {
   "cell_type": "markdown",
   "metadata": {},
   "source": [
    "# Creation of new features\n",
    "\n",
    "We suggest to combine both, **Sibsp** and **parch** features, into the new one feature with the name **FamilyNumber** as a simple sum of **sibsp** and **parch**."
   ]
  },
  {
   "cell_type": "code",
   "execution_count": 25,
   "metadata": {
    "ExecuteTime": {
     "start_time": "2023-09-13T18:30:53.452482911Z"
    }
   },
   "outputs": [
    {
     "name": "stderr",
     "output_type": "stream",
     "text": [
      "Line_25.jupyter.kts (1:16 - 19) Unresolved reference: df1\n",
      "Line_25.jupyter.kts (1:42 - 47) Unresolved reference: sibsp\n",
      "Line_25.jupyter.kts (1:50 - 55) Unresolved reference: parch"
     ]
    }
   ],
   "source": [
    "val familyDF = df1.add(\"familyNumber\") { sibsp + parch }\n",
    "\n",
    "familyDF.head()"
   ]
  },
  {
   "cell_type": "code",
   "execution_count": 26,
   "metadata": {
    "ExecuteTime": {
     "end_time": "2023-09-13T18:30:53.588618246Z",
     "start_time": "2023-09-13T18:30:53.503643756Z"
    }
   },
   "outputs": [
    {
     "name": "stderr",
     "output_type": "stream",
     "text": [
      "Line_26.jupyter.kts (1:1 - 9) Unresolved reference: familyDF\n",
      "Line_26.jupyter.kts (1:17 - 29) Unresolved reference: familyNumber\n",
      "Line_26.jupyter.kts (1:39 - 47) Unresolved reference: survived"
     ]
    }
   ],
   "source": [
    "familyDF.corr { familyNumber }.with { survived }"
   ]
  },
  {
   "cell_type": "code",
   "execution_count": 27,
   "metadata": {
    "ExecuteTime": {
     "start_time": "2023-09-13T18:30:53.550042848Z"
    }
   },
   "outputs": [
    {
     "name": "stderr",
     "output_type": "stream",
     "text": [
      "Line_27.jupyter.kts (1:1 - 9) Unresolved reference: familyDF\n",
      "Line_27.jupyter.kts (1:17 - 29) Unresolved reference: familyNumber\n",
      "Line_27.jupyter.kts (1:39 - 42) Unresolved reference: age"
     ]
    }
   ],
   "source": [
    "familyDF.corr { familyNumber }.with { age }"
   ]
  },
  {
   "cell_type": "markdown",
   "metadata": {},
   "source": [
    "Looks like the new feature has no influence on the **survived** column, but it has a strong negative correlation with **age**. "
   ]
  },
  {
   "cell_type": "markdown",
   "metadata": {},
   "source": [
    "# Titles\n",
    "Let's try to extract something from the names. A lot of string in the name column contains special titles, like Done, Mr, Mrs and so on."
   ]
  },
  {
   "cell_type": "code",
   "execution_count": 28,
   "metadata": {
    "ExecuteTime": {
     "end_time": "2023-09-13T18:30:53.696398750Z",
     "start_time": "2023-09-13T18:30:53.595603667Z"
    }
   },
   "outputs": [
    {
     "name": "stderr",
     "output_type": "stream",
     "text": [
      "Line_28.jupyter.kts (1:16 - 18) Unresolved reference: df\n",
      "Line_28.jupyter.kts (1:28 - 36) Unresolved reference: survived\n",
      "Line_28.jupyter.kts (1:41 - 45) Unresolved reference: name\n",
      "Line_28.jupyter.kts (1:64 - 68) Unresolved reference: name"
     ]
    }
   ],
   "source": [
    "val titledDF = df.select { survived and name }.add (\"title\") { name.split(\".\")[0].split(\",\")[1].trim() }\n",
    "titledDF.head(100)"
   ]
  },
  {
   "cell_type": "code",
   "execution_count": 29,
   "metadata": {
    "ExecuteTime": {
     "start_time": "2023-09-13T18:30:53.667413577Z"
    }
   },
   "outputs": [
    {
     "name": "stderr",
     "output_type": "stream",
     "text": [
      "Line_29.jupyter.kts (1:1 - 9) Unresolved reference: titledDF\n",
      "Line_29.jupyter.kts (1:24 - 29) Unresolved reference: title"
     ]
    }
   ],
   "source": [
    "titledDF.valueCounts { title }"
   ]
  },
  {
   "cell_type": "markdown",
   "metadata": {},
   "source": [
    "New **Title** column contains some rare titles and some titles with typos. Let's clean the data and merge rare titles into one category."
   ]
  },
  {
   "cell_type": "code",
   "execution_count": 30,
   "metadata": {
    "ExecuteTime": {
     "end_time": "2023-09-13T18:30:53.891842832Z",
     "start_time": "2023-09-13T18:30:53.705789980Z"
    }
   },
   "outputs": [
    {
     "name": "stderr",
     "output_type": "stream",
     "text": [
      "Line_30.jupyter.kts (4:23 - 31) Unresolved reference: titledDF\n",
      "Line_30.jupyter.kts (4:41 - 46) Unresolved reference: title\n",
      "Line_30.jupyter.kts (6:33 - 35) Expression expected, but a package name found\n",
      "Line_30.jupyter.kts (7:33 - 35) Expression expected, but a package name found\n",
      "Line_30.jupyter.kts (8:33 - 35) Expression expected, but a package name found\n",
      "Line_30.jupyter.kts (9:33 - 35) Expression expected, but a package name found\n",
      "Line_30.jupyter.kts (10:41 - 43) Expression expected, but a package name found"
     ]
    }
   ],
   "source": [
    "val rareTitles = listOf(\"Dona\", \"Lady\", \"the Countess\", \"Capt\", \"Col\", \"Don\", \n",
    "                \"Dr\", \"Major\", \"Rev\", \"Sir\", \"Jonkheer\")\n",
    "\n",
    "val cleanedTitledDF = titledDF.update { title }.with { \n",
    "                            when {\n",
    "                                it == \"Mlle\" -> \"Miss\"\n",
    "                                it == \"Ms\" -> \"Miss\"\n",
    "                                it == \"Mme\" -> \"Mrs\"\n",
    "                                it in rareTitles -> \"Rare Title\"\n",
    "                                else -> it\n",
    "                            }\n",
    "                        }"
   ]
  },
  {
   "cell_type": "code",
   "execution_count": 31,
   "metadata": {
    "ExecuteTime": {
     "start_time": "2023-09-13T18:30:53.864791069Z"
    }
   },
   "outputs": [
    {
     "name": "stderr",
     "output_type": "stream",
     "text": [
      "Line_31.jupyter.kts (1:1 - 16) Unresolved reference: cleanedTitledDF\n",
      "Line_31.jupyter.kts (1:31 - 36) Unresolved reference: title"
     ]
    }
   ],
   "source": [
    "cleanedTitledDF.valueCounts { title }"
   ]
  },
  {
   "cell_type": "markdown",
   "metadata": {},
   "source": [
    "Now it looks awesome and we have only 5 different titles and could see how it correlates with survival."
   ]
  },
  {
   "cell_type": "code",
   "execution_count": 32,
   "metadata": {
    "ExecuteTime": {
     "end_time": "2023-09-13T18:30:54.054544235Z",
     "start_time": "2023-09-13T18:30:53.897272643Z"
    }
   },
   "outputs": [
    {
     "name": "stderr",
     "output_type": "stream",
     "text": [
      "Line_32.jupyter.kts (1:20 - 35) Unresolved reference: cleanedTitledDF\n",
      "Line_32.jupyter.kts (2:37 - 42) Unresolved reference: title\n",
      "Line_32.jupyter.kts (3:29 - 34) Unresolved reference: title\n",
      "Line_32.jupyter.kts (3:44 - 52) Unresolved reference: survived"
     ]
    }
   ],
   "source": [
    "val correlations = cleanedTitledDF\n",
    "                    .pivotMatches { title }\n",
    "                    .corr { title }.with { survived }\n",
    "correlations"
   ]
  },
  {
   "cell_type": "code",
   "execution_count": 33,
   "metadata": {
    "ExecuteTime": {
     "start_time": "2023-09-13T18:30:53.947456607Z"
    }
   },
   "outputs": [
    {
     "name": "stderr",
     "output_type": "stream",
     "text": [
      "Line_33.jupyter.kts (1:1 - 13) Unresolved reference: correlations\n",
      "Line_33.jupyter.kts (1:23 - 28) Unresolved reference: title\n",
      "Line_33.jupyter.kts (1:41 - 55) Unresolved reference: substringAfter\n",
      "Line_33.jupyter.kts (1:72 - 77) Unresolved reference: title"
     ]
    }
   ],
   "source": [
    "correlations.update { title }.with { it.substringAfter('_') }.filter { title != \"survived\" }"
   ]
  },
  {
   "cell_type": "markdown",
   "metadata": {},
   "source": [
    "The women with title **Miss** and **Mrs** have the same chances to survive, but not the same for the men. If you have a title **Mr**, your deals are bad on the Titanic.\n",
    "\n",
    "**Rare title** is really rare and doesn't play a big role."
   ]
  },
  {
   "cell_type": "code",
   "execution_count": 34,
   "metadata": {
    "ExecuteTime": {
     "start_time": "2023-09-13T18:30:53.996465289Z"
    }
   },
   "outputs": [
    {
     "name": "stderr",
     "output_type": "stream",
     "text": [
      "Line_34.jupyter.kts (1:30 - 45) Unresolved reference: cleanedTitledDF\n",
      "Line_34.jupyter.kts (1:60 - 65) Unresolved reference: title\n",
      "Line_34.jupyter.kts (1:70 - 78) Unresolved reference: survived\n",
      "Line_34.jupyter.kts (1:90 - 95) Unresolved reference: title\n",
      "Line_34.jupyter.kts (1:100 - 108) Unresolved reference: survived"
     ]
    }
   ],
   "source": [
    "val groupedCleanedTitledDF = cleanedTitledDF.valueCounts { title and survived }.sortBy { title and survived }\n",
    "groupedCleanedTitledDF"
   ]
  },
  {
   "cell_type": "markdown",
   "metadata": {},
   "source": [
    "# Surname's analysis\n",
    "It's very interesting to dig deeper into families, home destinations, and we could do start this analysis from surnames which could be easily extracted from **Name** feature."
   ]
  },
  {
   "cell_type": "code",
   "execution_count": 35,
   "metadata": {
    "ExecuteTime": {
     "start_time": "2023-09-13T18:30:54.047699067Z"
    }
   },
   "outputs": [
    {
     "name": "stderr",
     "output_type": "stream",
     "text": [
      "Line_35.jupyter.kts (1:17 - 20) Unresolved reference: df1\n",
      "Line_35.jupyter.kts (1:30 - 38) Unresolved reference: survived\n",
      "Line_35.jupyter.kts (1:43 - 47) Unresolved reference: name\n",
      "Line_35.jupyter.kts (1:68 - 72) Unresolved reference: name"
     ]
    }
   ],
   "source": [
    "val surnameDF = df1.select { survived and name }.add (\"surname\") { name.split(\".\")[0].split(\",\")[0].trim() }\n",
    "surnameDF.head()"
   ]
  },
  {
   "cell_type": "code",
   "execution_count": 36,
   "metadata": {
    "ExecuteTime": {
     "end_time": "2023-09-13T18:30:54.226791677Z",
     "start_time": "2023-09-13T18:30:54.104431861Z"
    }
   },
   "outputs": [
    {
     "name": "stderr",
     "output_type": "stream",
     "text": [
      "Line_36.jupyter.kts (1:1 - 10) Unresolved reference: surnameDF\n",
      "Line_36.jupyter.kts (1:25 - 32) Unresolved reference: surname"
     ]
    }
   ],
   "source": [
    "surnameDF.valueCounts { surname }"
   ]
  },
  {
   "cell_type": "code",
   "execution_count": 37,
   "metadata": {
    "ExecuteTime": {
     "start_time": "2023-09-13T18:30:54.139756592Z"
    }
   },
   "outputs": [
    {
     "name": "stderr",
     "output_type": "stream",
     "text": [
      "Line_37.jupyter.kts (1:1 - 10) Unresolved reference: surnameDF"
     ]
    }
   ],
   "source": [
    "surnameDF.surname.countDistinct()"
   ]
  },
  {
   "cell_type": "code",
   "execution_count": 38,
   "metadata": {
    "ExecuteTime": {
     "start_time": "2023-09-13T18:30:54.166432609Z"
    }
   },
   "outputs": [
    {
     "name": "stderr",
     "output_type": "stream",
     "text": [
      "Line_38.jupyter.kts (1:20 - 26) Unresolved reference: column\n",
      "Line_38.jupyter.kts (3:1 - 4) Unresolved reference: df1\n",
      "Line_38.jupyter.kts (4:22 - 26) Unresolved reference: name\n",
      "Line_38.jupyter.kts (6:30 - 38) Unresolved reference: survived"
     ]
    }
   ],
   "source": [
    "val firstSymbol by column<String>()\n",
    "\n",
    "df1\n",
    ".add (firstSymbol) { name.split(\".\")[0].split(\",\")[0].trim().first().toString() }\n",
    ".pivotMatches(firstSymbol)\n",
    ".corr { firstSymbol }.with { survived }\n"
   ]
  }
 ],
 "metadata": {
  "kernelspec": {
   "display_name": "Kotlin",
   "language": "kotlin",
   "name": "kotlin"
  },
  "language_info": {
   "codemirror_mode": "text/x-kotlin",
   "file_extension": ".kt",
   "mimetype": "text/x-kotlin",
   "name": "kotlin",
   "nbconvert_exporter": "",
   "pygments_lexer": "kotlin",
   "version": "1.8.20-Beta"
  }
 },
 "nbformat": 4,
 "nbformat_minor": 1
}
