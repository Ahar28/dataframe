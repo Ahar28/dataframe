{
 "cells": [
  {
   "cell_type": "code",
   "execution_count": 1,
   "id": "10580d5c",
   "metadata": {},
   "outputs": [],
   "source": [
    "@file:Repository(\"*mavenLocal\")"
   ]
  },
  {
   "cell_type": "code",
   "execution_count": 2,
   "id": "3404e934",
   "metadata": {},
   "outputs": [
    {
     "data": {
      "text/html": [
       "            <div id=\"kotlin_out_0\"/>\n",
       "            <script type=\"text/javascript\">\n",
       "                            if(!window.kotlinQueues) {\n",
       "                window.kotlinQueues = {};\n",
       "            }\n",
       "            if(!window.kotlinQueues[\"DataFrame\"]) {\n",
       "                var resQueue = [];\n",
       "                window.kotlinQueues[\"DataFrame\"] = resQueue;\n",
       "                window[\"call_DataFrame\"] = function(f) {\n",
       "                    resQueue.push(f);\n",
       "                }\n",
       "            }\n",
       "            (function (){\n",
       "                var modifiers = [(function(script) {\n",
       "    script.src = \"https://cdn.jsdelivr.net/gh/Kotlin/dataframe@d6467c1389bc031958acd5310fce39167b5cc581/src/main/resources/init.js\"\n",
       "    script.type = \"text/javascript\";\n",
       "})];\n",
       "                var e = document.getElementById(\"kotlin_out_0\");\n",
       "                modifiers.forEach(function (gen) {\n",
       "                    var script = document.createElement(\"script\");\n",
       "                    gen(script)\n",
       "                    script.addEventListener(\"load\", function() {\n",
       "                        window[\"call_DataFrame\"] = function(f) {f();};\n",
       "                        window.kotlinQueues[\"DataFrame\"].forEach(function(f) {f();});\n",
       "                        window.kotlinQueues[\"DataFrame\"] = [];\n",
       "                    }, false);\n",
       "                    script.addEventListener(\"error\", function() {\n",
       "                        window[\"call_DataFrame\"] = function(f) {};\n",
       "                        window.kotlinQueues[\"DataFrame\"] = [];\n",
       "                        var div = document.createElement(\"div\");\n",
       "                        div.style.color = 'darkred';\n",
       "                        div.textContent = 'Error loading resource DataFrame';\n",
       "                        document.getElementById(\"kotlin_out_0\").appendChild(div);\n",
       "                    }, false);\n",
       "                    \n",
       "                    e.appendChild(script);\n",
       "                });\n",
       "            })();\n",
       "            </script>"
      ]
     },
     "metadata": {},
     "output_type": "display_data"
    },
    {
     "data": {
      "text/html": [
       "                <style>\n",
       "                :root {\n",
       "    --background: #fff;\n",
       "    --background-odd: #f5f5f5;\n",
       "    --background-hover: #d9edfd;\n",
       "    --header-text-color: #474747;\n",
       "    --text-color: #848484;\n",
       "    --text-color-dark: #000;\n",
       "    --text-color-medium: #737373;\n",
       "    --text-color-pale: #b3b3b3;\n",
       "    --inner-border-color: #aaa;\n",
       "    --bold-border-color: #000;\n",
       "    --link-color: #296eaa;\n",
       "    --link-color-pale: #296eaa;\n",
       "    --link-hover: #1a466c;\n",
       "}\n",
       "\n",
       ":root[theme=\"dark\"], :root [data-jp-theme-light=\"false\"]{\n",
       "    --background: #303030;\n",
       "    --background-odd: #3c3c3c;\n",
       "    --background-hover: #464646;\n",
       "    --header-text-color: #dddddd;\n",
       "    --text-color: #b3b3b3;\n",
       "    --text-color-dark: #dddddd;\n",
       "    --text-color-medium: #b2b2b2;\n",
       "    --text-color-pale: #737373;\n",
       "    --inner-border-color: #707070;\n",
       "    --bold-border-color: #777777;\n",
       "    --link-color: #008dc0;\n",
       "    --link-color-pale: #97e1fb;\n",
       "    --link-hover: #00688e;\n",
       "}\n",
       "\n",
       "table.dataframe {\n",
       "    font-family: \"Helvetica Neue\", Helvetica, Arial, sans-serif;\n",
       "    font-size: 12px;\n",
       "    background-color: var(--background);\n",
       "    color: var(--text-color-dark);\n",
       "    border: none;\n",
       "    border-collapse: collapse;\n",
       "}\n",
       "\n",
       "table.dataframe th, td {\n",
       "    padding: 6px;\n",
       "    border: 1px solid transparent;\n",
       "    text-align: left;\n",
       "}\n",
       "\n",
       "table.dataframe th {\n",
       "    background-color: var(--background);\n",
       "    color: var(--header-text-color);\n",
       "}\n",
       "\n",
       "table.dataframe td {\n",
       "    vertical-align: top;\n",
       "}\n",
       "\n",
       "table.dataframe th.bottomBorder {\n",
       "    border-bottom-color: var(--bold-border-color);\n",
       "}\n",
       "\n",
       "table.dataframe tbody > tr:nth-child(odd) {\n",
       "    background: var(--background-odd);\n",
       "}\n",
       "\n",
       "table.dataframe tbody > tr:nth-child(even) {\n",
       "    background: var(--background);\n",
       "}\n",
       "\n",
       "table.dataframe tbody > tr:hover {\n",
       "    background: var(--background-hover);\n",
       "}\n",
       "\n",
       "table.dataframe a {\n",
       "    cursor: pointer;\n",
       "    color: var(--link-color);\n",
       "    text-decoration: none;\n",
       "}\n",
       "\n",
       "table.dataframe tr:hover > td a {\n",
       "    color: var(--link-color-pale);\n",
       "}\n",
       "\n",
       "table.dataframe a:hover {\n",
       "    color: var(--link-hover);\n",
       "    text-decoration: underline;\n",
       "}\n",
       "\n",
       "table.dataframe img {\n",
       "    max-width: fit-content;\n",
       "}\n",
       "\n",
       "table.dataframe th.complex {\n",
       "    background-color: var(--background);\n",
       "    border: 1px solid var(--background);\n",
       "}\n",
       "\n",
       "table.dataframe .leftBorder {\n",
       "    border-left-color: var(--inner-border-color);\n",
       "}\n",
       "\n",
       "table.dataframe .rightBorder {\n",
       "    border-right-color: var(--inner-border-color);\n",
       "}\n",
       "\n",
       "table.dataframe .rightAlign {\n",
       "    text-align: right;\n",
       "}\n",
       "\n",
       "table.dataframe .expanderSvg {\n",
       "    width: 8px;\n",
       "    height: 8px;\n",
       "    margin-right: 3px;\n",
       "}\n",
       "\n",
       "table.dataframe .expander {\n",
       "    display: flex;\n",
       "    align-items: center;\n",
       "}\n",
       "\n",
       "/* formatting */\n",
       "\n",
       "table.dataframe .null {\n",
       "    color: var(--text-color-pale);\n",
       "}\n",
       "\n",
       "table.dataframe .structural {\n",
       "    color: var(--text-color-medium);\n",
       "    font-weight: bold;\n",
       "}\n",
       "\n",
       "table.dataframe .dataFrameCaption {\n",
       "    font-weight: bold;\n",
       "}\n",
       "\n",
       "table.dataframe .numbers {\n",
       "    color: var(--text-color-dark);\n",
       "}\n",
       "\n",
       "table.dataframe td:hover .formatted .structural, .null {\n",
       "    color: var(--text-color-dark);\n",
       "}\n",
       "\n",
       "table.dataframe tr:hover .formatted .structural, .null {\n",
       "    color: var(--text-color-dark);\n",
       "}\n",
       "\n",
       "\n",
       "                </style>"
      ]
     },
     "metadata": {},
     "output_type": "display_data"
    }
   ],
   "source": [
    "@file:DependsOn(\"org.jetbrains.kotlinx:dataframe:0.9.0-dev\")"
   ]
  },
  {
   "cell_type": "code",
   "execution_count": 3,
   "id": "85075d1b",
   "metadata": {},
   "outputs": [],
   "source": [
    "import org.jetbrains.kotlinx.dataframe.plugin.*\n",
    "import org.jetbrains.kotlinx.dataframe.plugin.testing.schemaRender.toPluginDataFrameSchema"
   ]
  },
  {
   "cell_type": "code",
   "execution_count": 4,
   "id": "3ad39373",
   "metadata": {},
   "outputs": [],
   "source": [
    "@DataSchema\n",
    "interface Person {\n",
    "    val name: String\n",
    "    val age: Int\n",
    "    val city: String?\n",
    "    val weight: Int?\n",
    "}"
   ]
  },
  {
   "cell_type": "code",
   "execution_count": 5,
   "id": "89cb1e21",
   "metadata": {},
   "outputs": [],
   "source": [
    "val df = dataFrameOf(\"name\", \"age\", \"city\", \"weight\")(\n",
    "        \"Alice\", 15, \"London\", 54,\n",
    "        \"Bob\", 45, \"Dubai\", 87,\n",
    "        \"Charlie\", 20, \"Moscow\", null,\n",
    "        \"Charlie\", 40, \"Milan\", null,\n",
    "        \"Bob\", 30, \"Tokyo\", 68,\n",
    "        \"Alice\", 20, null, 55,\n",
    "        \"Charlie\", 30, \"Moscow\", 90\n",
    "    )\n",
    "\n",
    "val typed: DataFrame<Person> = df.cast()"
   ]
  },
  {
   "cell_type": "code",
   "execution_count": 6,
   "id": "a4e6242d",
   "metadata": {},
   "outputs": [],
   "source": [
    "private val defaultExplodeColumns: ColumnsSelector<*, *> = { dfs { it.isList() || it.isFrameColumn() } }\n",
    "\n",
    "fun <T> DataFrame<T>.explodeTest(\n",
    "    dropEmpty: Boolean = true,\n",
    "    selector: ColumnsSelector<T, *> = defaultExplodeColumns\n",
    "): DataFrame<T> {\n",
    "    println(\"Before runtime\")\n",
    "    schema().print()\n",
    "    println(\"Before compile\")\n",
    "    pluginSchema().print()\n",
    "    val runtime = explode(dropEmpty, selector)\n",
    "    println()\n",
    "    println()\n",
    "    println(\"Runtime\")\n",
    "    runtime.schema().print()\n",
    "    println(\"Compile\")\n",
    "    val compile = pluginSchema().explodeImpl(dropEmpty, selector.toColumnPath(this))\n",
    "    compile.print()\n",
    "    return runtime\n",
    "}"
   ]
  },
  {
   "cell_type": "code",
   "execution_count": 7,
   "id": "cbf673de",
   "metadata": {},
   "outputs": [
    {
     "data": {
      "text/html": [
       "        <html>\n",
       "        <head>\n",
       "            <style type=\"text/css\">\n",
       "                \n",
       "\n",
       "            </style>\n",
       "        </head>\n",
       "        <body>\n",
       "            <table class=\"dataframe\" id=\"df_-369098752\"></table>\n",
       "\n",
       "<p>GroupBy</p>\n",
       "        </body>\n",
       "        <script>\n",
       "            /*<!--*/\n",
       "call_DataFrame(function() { DataFrame.addTable({ cols: [{ name: \"<span title=\\\"city: String?\\\">city</span>\", children: [], rightAlign: false, values: [\"London\",\"Dubai\",\"Moscow\",\"Milan\",\"Tokyo\",\"<span class=\\\"formatted\\\" title=\\\"\\\"><span class=\\\"null\\\">null</span></span>\"] }, \n",
       "{ name: \"<span title=\\\"group: DataFrame\\\">group</span>\", children: [], rightAlign: false, values: [{ frameId: -369098751, value: \"<b>DataFrame 1 x 4</b>\" },{ frameId: -369098750, value: \"<b>DataFrame 1 x 4</b>\" },{ frameId: -369098749, value: \"<b>DataFrame 2 x 4</b>\" },{ frameId: -369098748, value: \"<b>DataFrame 1 x 4</b>\" },{ frameId: -369098747, value: \"<b>DataFrame 1 x 4</b>\" },{ frameId: -369098746, value: \"<b>DataFrame 1 x 4</b>\" }] }, \n",
       "], id: -369098752, rootId: -369098752, totalRows: 6 } ) });\n",
       "/*-->*/\n",
       "\n",
       "/*<!--*/\n",
       "call_DataFrame(function() { DataFrame.addTable({ cols: [{ name: \"<span title=\\\"name: String\\\">name</span>\", children: [], rightAlign: false, values: [\"Alice\"] }, \n",
       "{ name: \"<span title=\\\"age: Int\\\">age</span>\", children: [], rightAlign: true, values: [\"<span class=\\\"formatted\\\" title=\\\"\\\"><span class=\\\"numbers\\\">15</span></span>\"] }, \n",
       "{ name: \"<span title=\\\"city: String\\\">city</span>\", children: [], rightAlign: false, values: [\"London\"] }, \n",
       "{ name: \"<span title=\\\"weight: Int\\\">weight</span>\", children: [], rightAlign: true, values: [\"<span class=\\\"formatted\\\" title=\\\"\\\"><span class=\\\"numbers\\\">54</span></span>\"] }, \n",
       "], id: -369098751, rootId: -369098752, totalRows: 1 } ) });\n",
       "/*-->*/\n",
       "\n",
       "/*<!--*/\n",
       "call_DataFrame(function() { DataFrame.addTable({ cols: [{ name: \"<span title=\\\"name: String\\\">name</span>\", children: [], rightAlign: false, values: [\"Bob\"] }, \n",
       "{ name: \"<span title=\\\"age: Int\\\">age</span>\", children: [], rightAlign: true, values: [\"<span class=\\\"formatted\\\" title=\\\"\\\"><span class=\\\"numbers\\\">45</span></span>\"] }, \n",
       "{ name: \"<span title=\\\"city: String\\\">city</span>\", children: [], rightAlign: false, values: [\"Dubai\"] }, \n",
       "{ name: \"<span title=\\\"weight: Int\\\">weight</span>\", children: [], rightAlign: true, values: [\"<span class=\\\"formatted\\\" title=\\\"\\\"><span class=\\\"numbers\\\">87</span></span>\"] }, \n",
       "], id: -369098750, rootId: -369098752, totalRows: 1 } ) });\n",
       "/*-->*/\n",
       "\n",
       "/*<!--*/\n",
       "call_DataFrame(function() { DataFrame.addTable({ cols: [{ name: \"<span title=\\\"name: String\\\">name</span>\", children: [], rightAlign: false, values: [\"Charlie\",\"Charlie\"] }, \n",
       "{ name: \"<span title=\\\"age: Int\\\">age</span>\", children: [], rightAlign: true, values: [\"<span class=\\\"formatted\\\" title=\\\"\\\"><span class=\\\"numbers\\\">20</span></span>\",\"<span class=\\\"formatted\\\" title=\\\"\\\"><span class=\\\"numbers\\\">30</span></span>\"] }, \n",
       "{ name: \"<span title=\\\"city: String\\\">city</span>\", children: [], rightAlign: false, values: [\"Moscow\",\"Moscow\"] }, \n",
       "{ name: \"<span title=\\\"weight: Int?\\\">weight</span>\", children: [], rightAlign: true, values: [\"<span class=\\\"formatted\\\" title=\\\"\\\"><span class=\\\"null\\\">null</span></span>\",\"<span class=\\\"formatted\\\" title=\\\"\\\"><span class=\\\"numbers\\\">90</span></span>\"] }, \n",
       "], id: -369098749, rootId: -369098752, totalRows: 2 } ) });\n",
       "/*-->*/\n",
       "\n",
       "/*<!--*/\n",
       "call_DataFrame(function() { DataFrame.addTable({ cols: [{ name: \"<span title=\\\"name: String\\\">name</span>\", children: [], rightAlign: false, values: [\"Charlie\"] }, \n",
       "{ name: \"<span title=\\\"age: Int\\\">age</span>\", children: [], rightAlign: true, values: [\"<span class=\\\"formatted\\\" title=\\\"\\\"><span class=\\\"numbers\\\">40</span></span>\"] }, \n",
       "{ name: \"<span title=\\\"city: String\\\">city</span>\", children: [], rightAlign: false, values: [\"Milan\"] }, \n",
       "{ name: \"<span title=\\\"weight: Int?\\\">weight</span>\", children: [], rightAlign: true, values: [\"<span class=\\\"formatted\\\" title=\\\"\\\"><span class=\\\"null\\\">null</span></span>\"] }, \n",
       "], id: -369098748, rootId: -369098752, totalRows: 1 } ) });\n",
       "/*-->*/\n",
       "\n",
       "/*<!--*/\n",
       "call_DataFrame(function() { DataFrame.addTable({ cols: [{ name: \"<span title=\\\"name: String\\\">name</span>\", children: [], rightAlign: false, values: [\"Bob\"] }, \n",
       "{ name: \"<span title=\\\"age: Int\\\">age</span>\", children: [], rightAlign: true, values: [\"<span class=\\\"formatted\\\" title=\\\"\\\"><span class=\\\"numbers\\\">30</span></span>\"] }, \n",
       "{ name: \"<span title=\\\"city: String\\\">city</span>\", children: [], rightAlign: false, values: [\"Tokyo\"] }, \n",
       "{ name: \"<span title=\\\"weight: Int\\\">weight</span>\", children: [], rightAlign: true, values: [\"<span class=\\\"formatted\\\" title=\\\"\\\"><span class=\\\"numbers\\\">68</span></span>\"] }, \n",
       "], id: -369098747, rootId: -369098752, totalRows: 1 } ) });\n",
       "/*-->*/\n",
       "\n",
       "/*<!--*/\n",
       "call_DataFrame(function() { DataFrame.addTable({ cols: [{ name: \"<span title=\\\"name: String\\\">name</span>\", children: [], rightAlign: false, values: [\"Alice\"] }, \n",
       "{ name: \"<span title=\\\"age: Int\\\">age</span>\", children: [], rightAlign: true, values: [\"<span class=\\\"formatted\\\" title=\\\"\\\"><span class=\\\"numbers\\\">20</span></span>\"] }, \n",
       "{ name: \"<span title=\\\"city: String?\\\">city</span>\", children: [], rightAlign: false, values: [\"<span class=\\\"formatted\\\" title=\\\"\\\"><span class=\\\"null\\\">null</span></span>\"] }, \n",
       "{ name: \"<span title=\\\"weight: Int\\\">weight</span>\", children: [], rightAlign: true, values: [\"<span class=\\\"formatted\\\" title=\\\"\\\"><span class=\\\"numbers\\\">55</span></span>\"] }, \n",
       "], id: -369098746, rootId: -369098752, totalRows: 1 } ) });\n",
       "/*-->*/\n",
       "\n",
       "call_DataFrame(function() { DataFrame.renderTable(-369098752) });\n",
       "\n",
       "\n",
       "        </script>\n",
       "        </html>"
      ]
     },
     "execution_count": 7,
     "metadata": {},
     "output_type": "execute_result"
    }
   ],
   "source": [
    "val grouped = typed.groupBy { city }\n",
    "grouped"
   ]
  },
  {
   "cell_type": "code",
   "execution_count": 52,
   "id": "d5e0c2a0",
   "metadata": {},
   "outputs": [],
   "source": [
    "fun DataFrame<*>.generateTestStub(id: Int): String {\n",
    "    val name = \"Explode$id\"\n",
    "    val schema = generateSchemaDeclaration(name)\n",
    "    \n",
    "    return \"\"\"\n",
    "import org.jetbrains.kotlinx.dataframe.*\n",
    "import org.jetbrains.kotlinx.dataframe.api.*\n",
    "import org.jetbrains.kotlinx.dataframe.annotations.*\n",
    "import org.jetbrains.kotlinx.dataframe.plugin.testing.*\n",
    "import org.jetbrains.kotlinx.dataframe.plugin.testing.atoms.*\n",
    "    \n",
    "$schema\n",
    "    \n",
    "fun convert$id(df: DataFrame<$name>) {\n",
    "        \n",
    "}\"\"\"\n",
    "}"
   ]
  },
  {
   "cell_type": "code",
   "execution_count": 45,
   "id": "5578298e",
   "metadata": {},
   "outputs": [
    {
     "data": {
      "text/plain": [
       "city: String\n",
       "group: *\n",
       "    name: String\n",
       "    city: String\n"
      ]
     },
     "execution_count": 45,
     "metadata": {},
     "output_type": "execute_result"
    }
   ],
   "source": [
    "val df = typed.filter { city != null }.remove { age and weight }.groupBy { city }.toDataFrame()\n",
    "df.schema()"
   ]
  },
  {
   "cell_type": "code",
   "execution_count": 53,
   "id": "52875c70",
   "metadata": {},
   "outputs": [
    {
     "data": {
      "text/plain": [
       "\n",
       "import org.jetbrains.kotlinx.dataframe.*\n",
       "import org.jetbrains.kotlinx.dataframe.api.*\n",
       "import org.jetbrains.kotlinx.dataframe.annotations.*\n",
       "import org.jetbrains.kotlinx.dataframe.plugin.testing.*\n",
       "import org.jetbrains.kotlinx.dataframe.plugin.testing.atoms.*\n",
       "    \n",
       "@DataSchema(isOpen = false)\n",
       "interface Explode01 {\n",
       "    val city: String\n",
       "    val name: String\n",
       "}\n",
       "\n",
       "val ColumnsContainer<Explode01>.city: DataColumn<String>  get() = this[\"city\"] as DataColumn<String>\n",
       "val DataRow<Explode01>.city: String  get() = this[\"city\"] as String\n",
       "val ColumnsContainer<Explode01>.name: DataColumn<String>  get() = this[\"name\"] as DataColumn<String>\n",
       "val DataRow<Explode01>.name: String  get() = this[\"name\"] as String\n",
       "\n",
       "@DataSchema\n",
       "interface Explode0 {\n",
       "    val city: String\n",
       "    val group: DataFrame<Explode01>\n",
       "}\n",
       "\n",
       "val ColumnsContainer<Explode0>.city: DataColumn<String>  get() = this[\"city\"] as DataColumn<String>\n",
       "val DataRow<Explode0>.city: String  get() = this[\"city\"] as String\n",
       "val ColumnsContainer<Explode0>.group: DataColumn<DataFrame<Explode01>>  get() = this[\"group\"] as DataColumn<DataFrame<Explode01>>\n",
       "val DataRow<Explode0>.group: DataFrame<Explode01>  get() = this[\"group\"] as DataFrame<Explode01>\n",
       "    \n",
       "fun convert0(df: DataFrame<Explode0>) {\n",
       "        \n",
       "}"
      ]
     },
     "execution_count": 53,
     "metadata": {},
     "output_type": "execute_result"
    }
   ],
   "source": [
    "df.generateTestStub(0)"
   ]
  },
  {
   "cell_type": "code",
   "execution_count": 11,
   "id": "94efbcf1",
   "metadata": {},
   "outputs": [
    {
     "name": "stdout",
     "output_type": "stream",
     "text": [
      "Before runtime\n",
      "city: String\n",
      "group: *\n",
      "    name: String\n",
      "    city: String\n",
      "\n",
      "Before compile\n",
      "city: kotlin.String\n",
      "*group\n",
      "   name: kotlin.String\n",
      "   city: kotlin.String\n",
      "Runtime\n",
      "city: String\n",
      "group:\n",
      "    name: String\n",
      "    city: String\n",
      "\n",
      "Compile\n",
      "city: kotlin.String\n",
      "group\n",
      "   name: kotlin.String\n",
      "   city: kotlin.String\n"
     ]
    },
    {
     "data": {
      "text/html": [
       "        <html>\n",
       "        <head>\n",
       "            <style type=\"text/css\">\n",
       "                \n",
       "\n",
       "            </style>\n",
       "        </head>\n",
       "        <body>\n",
       "            <table class=\"dataframe\" id=\"df_-369098745\"></table>\n",
       "\n",
       "<p>DataFrame: rowsCount = 6, columnsCount = 2</p>\n",
       "        </body>\n",
       "        <script>\n",
       "            /*<!--*/\n",
       "call_DataFrame(function() { DataFrame.addTable({ cols: [{ name: \"<span title=\\\"city: String\\\">city</span>\", children: [], rightAlign: false, values: [\"London\",\"Dubai\",\"Moscow\",\"Moscow\",\"Milan\",\"Tokyo\"] }, \n",
       "{ name: \"<span title=\\\"name: String\\\">name</span>\", children: [], rightAlign: false, values: [\"Alice\",\"Bob\",\"Charlie\",\"Charlie\",\"Charlie\",\"Bob\"] }, \n",
       "{ name: \"<span title=\\\"city: String\\\">city</span>\", children: [], rightAlign: false, values: [\"London\",\"Dubai\",\"Moscow\",\"Moscow\",\"Milan\",\"Tokyo\"] }, \n",
       "{ name: \"<span title=\\\"group: DataRow\\\">group</span>\", children: [1, 2], rightAlign: false, values: [\"<span class=\\\"formatted\\\" title=\\\"name: Alice\\ncity: London\\\"><span class=\\\"structural\\\">{ </span><span class=\\\"structural\\\">name: </span>Alice<span class=\\\"structural\\\">, </span><span class=\\\"structural\\\">city: </span>London<span class=\\\"structural\\\"> }</span></span>\",\"<span class=\\\"formatted\\\" title=\\\"name: Bob\\ncity: Dubai\\\"><span class=\\\"structural\\\">{ </span><span class=\\\"structural\\\">name: </span>Bob<span class=\\\"structural\\\">, </span><span class=\\\"structural\\\">city: </span>Dubai<span class=\\\"structural\\\"> }</span></span>\",\"<span class=\\\"formatted\\\" title=\\\"name: Charlie\\ncity: Moscow\\\"><span class=\\\"structural\\\">{ </span><span class=\\\"structural\\\">name: </span>Charlie<span class=\\\"structural\\\">, </span><span class=\\\"structural\\\">city: </span>Moscow<span class=\\\"structural\\\"> }</span></span>\",\"<span class=\\\"formatted\\\" title=\\\"name: Charlie\\ncity: Moscow\\\"><span class=\\\"structural\\\">{ </span><span class=\\\"structural\\\">name: </span>Charlie<span class=\\\"structural\\\">, </span><span class=\\\"structural\\\">city: </span>Moscow<span class=\\\"structural\\\"> }</span></span>\",\"<span class=\\\"formatted\\\" title=\\\"name: Charlie\\ncity: Milan\\\"><span class=\\\"structural\\\">{ </span><span class=\\\"structural\\\">name: </span>Charlie<span class=\\\"structural\\\">, </span><span class=\\\"structural\\\">city: </span>Milan<span class=\\\"structural\\\"> }</span></span>\",\"<span class=\\\"formatted\\\" title=\\\"name: Bob\\ncity: Tokyo\\\"><span class=\\\"structural\\\">{ </span><span class=\\\"structural\\\">name: </span>Bob<span class=\\\"structural\\\">, </span><span class=\\\"structural\\\">city: </span>Tokyo<span class=\\\"structural\\\"> }</span></span>\"] }, \n",
       "], id: -369098745, rootId: -369098745, totalRows: 6 } ) });\n",
       "/*-->*/\n",
       "\n",
       "call_DataFrame(function() { DataFrame.renderTable(-369098745) });\n",
       "\n",
       "\n",
       "        </script>\n",
       "        </html>"
      ]
     },
     "execution_count": 11,
     "metadata": {},
     "output_type": "execute_result"
    }
   ],
   "source": [
    "df.explodeTest() { group }"
   ]
  },
  {
   "cell_type": "code",
   "execution_count": 12,
   "id": "2de8b5cf",
   "metadata": {},
   "outputs": [],
   "source": [
    "val groupCol = grouped.groups.toColumnAccessor()"
   ]
  },
  {
   "cell_type": "code",
   "execution_count": 13,
   "id": "5bf661f0",
   "metadata": {},
   "outputs": [
    {
     "data": {
      "text/plain": [
       "org.jetbrains.kotlinx.dataframe.impl.columns.ColumnAccessorImpl@3f36b447"
      ]
     },
     "execution_count": 13,
     "metadata": {},
     "output_type": "execute_result"
    }
   ],
   "source": [
    "groupCol"
   ]
  },
  {
   "cell_type": "code",
   "execution_count": 14,
   "id": "f26a32d3",
   "metadata": {},
   "outputs": [
    {
     "data": {
      "text/html": [
       "        <html>\n",
       "        <head>\n",
       "            <style type=\"text/css\">\n",
       "                \n",
       "\n",
       "            </style>\n",
       "        </head>\n",
       "        <body>\n",
       "            <table class=\"dataframe\" id=\"df_-369098744\"></table>\n",
       "\n",
       "<p>DataFrame: rowsCount = 6, columnsCount = 2</p>\n",
       "        </body>\n",
       "        <script>\n",
       "            /*<!--*/\n",
       "call_DataFrame(function() { DataFrame.addTable({ cols: [{ name: \"<span title=\\\"city: String?\\\">city</span>\", children: [], rightAlign: false, values: [\"London\",\"Dubai\",\"Moscow\",\"Milan\",\"Tokyo\",\"<span class=\\\"formatted\\\" title=\\\"\\\"><span class=\\\"null\\\">null</span></span>\"] }, \n",
       "{ name: \"<span title=\\\"group: DataFrame?\\\">group</span>\", children: [], rightAlign: false, values: [{ frameId: -369098743, value: \"<b>DataFrame 1 x 4</b>\" },\"<span class=\\\"formatted\\\" title=\\\"\\\"><span class=\\\"null\\\">null</span></span>\",\"\",\"\",{ frameId: -369098742, value: \"<b>DataFrame 1 x 4</b>\" },{ frameId: -369098741, value: \"<b>DataFrame 1 x 4</b>\" }] }, \n",
       "], id: -369098744, rootId: -369098744, totalRows: 6 } ) });\n",
       "/*-->*/\n",
       "\n",
       "/*<!--*/\n",
       "call_DataFrame(function() { DataFrame.addTable({ cols: [{ name: \"<span title=\\\"name: String\\\">name</span>\", children: [], rightAlign: false, values: [\"Alice\"] }, \n",
       "{ name: \"<span title=\\\"age: Int\\\">age</span>\", children: [], rightAlign: true, values: [\"<span class=\\\"formatted\\\" title=\\\"\\\"><span class=\\\"numbers\\\">15</span></span>\"] }, \n",
       "{ name: \"<span title=\\\"city: String\\\">city</span>\", children: [], rightAlign: false, values: [\"London\"] }, \n",
       "{ name: \"<span title=\\\"weight: Int\\\">weight</span>\", children: [], rightAlign: true, values: [\"<span class=\\\"formatted\\\" title=\\\"\\\"><span class=\\\"numbers\\\">54</span></span>\"] }, \n",
       "], id: -369098743, rootId: -369098744, totalRows: 1 } ) });\n",
       "/*-->*/\n",
       "\n",
       "/*<!--*/\n",
       "call_DataFrame(function() { DataFrame.addTable({ cols: [{ name: \"<span title=\\\"name: String\\\">name</span>\", children: [], rightAlign: false, values: [\"Bob\"] }, \n",
       "{ name: \"<span title=\\\"age: Int\\\">age</span>\", children: [], rightAlign: true, values: [\"<span class=\\\"formatted\\\" title=\\\"\\\"><span class=\\\"numbers\\\">30</span></span>\"] }, \n",
       "{ name: \"<span title=\\\"city: String\\\">city</span>\", children: [], rightAlign: false, values: [\"Tokyo\"] }, \n",
       "{ name: \"<span title=\\\"weight: Int\\\">weight</span>\", children: [], rightAlign: true, values: [\"<span class=\\\"formatted\\\" title=\\\"\\\"><span class=\\\"numbers\\\">68</span></span>\"] }, \n",
       "], id: -369098742, rootId: -369098744, totalRows: 1 } ) });\n",
       "/*-->*/\n",
       "\n",
       "/*<!--*/\n",
       "call_DataFrame(function() { DataFrame.addTable({ cols: [{ name: \"<span title=\\\"name: String\\\">name</span>\", children: [], rightAlign: false, values: [\"Alice\"] }, \n",
       "{ name: \"<span title=\\\"age: Int\\\">age</span>\", children: [], rightAlign: true, values: [\"<span class=\\\"formatted\\\" title=\\\"\\\"><span class=\\\"numbers\\\">20</span></span>\"] }, \n",
       "{ name: \"<span title=\\\"city: String?\\\">city</span>\", children: [], rightAlign: false, values: [\"<span class=\\\"formatted\\\" title=\\\"\\\"><span class=\\\"null\\\">null</span></span>\"] }, \n",
       "{ name: \"<span title=\\\"weight: Int\\\">weight</span>\", children: [], rightAlign: true, values: [\"<span class=\\\"formatted\\\" title=\\\"\\\"><span class=\\\"numbers\\\">55</span></span>\"] }, \n",
       "], id: -369098741, rootId: -369098744, totalRows: 1 } ) });\n",
       "/*-->*/\n",
       "\n",
       "call_DataFrame(function() { DataFrame.renderTable(-369098744) });\n",
       "\n",
       "\n",
       "        </script>\n",
       "        </html>"
      ]
     },
     "execution_count": 14,
     "metadata": {},
     "output_type": "execute_result"
    }
   ],
   "source": [
    "val plain = grouped.toDataFrame()\n",
    "    .update { groupCol }.at(1).withNull() // shouldn't happen\n",
    "    .update { groupCol }.at(2).with { emptyDataFrame() }\n",
    "    .update { groupCol }.at(3).with { it.filter { false } }\n",
    "plain"
   ]
  },
  {
   "cell_type": "code",
   "execution_count": 41,
   "id": "03690a8c",
   "metadata": {},
   "outputs": [
    {
     "data": {
      "text/plain": [
       "city: String?\n",
       "group: DataFrame?\n"
      ]
     },
     "execution_count": 41,
     "metadata": {},
     "output_type": "execute_result"
    }
   ],
   "source": [
    "plain.schema()"
   ]
  },
  {
   "cell_type": "code",
   "execution_count": 15,
   "id": "ab29e832",
   "metadata": {},
   "outputs": [
    {
     "name": "stdout",
     "output_type": "stream",
     "text": [
      "Before runtime\n",
      "city: String?\n",
      "group: DataFrame?\n",
      "\n",
      "Before compile\n",
      "city: kotlin.String?\n",
      "group: org.jetbrains.kotlinx.dataframe.DataFrame?\n",
      "Runtime\n",
      "city: String?\n",
      "group:\n",
      "    name: String?\n",
      "    age: Int?\n",
      "    city: String?\n",
      "    weight: Int?\n",
      "\n",
      "Compile\n"
     ]
    },
    {
     "name": "stderr",
     "output_type": "stream",
     "text": [
      "An operation is not implemented: explode lists\n",
      "kotlin.NotImplementedError: An operation is not implemented: explode lists\n",
      "\tat org.jetbrains.kotlinx.dataframe.plugin.ExplodeKt.explodeImpl$explode(explode.kt:49)\n",
      "\tat org.jetbrains.kotlinx.dataframe.plugin.ExplodeKt.explodeImpl(explode.kt:58)\n",
      "\tat Line_11.explodeTest(Line_11.jupyter-kts:15)\n",
      "\tat Line_24.<init>(Line_24.jupyter-kts:1)\n",
      "\tat java.base/jdk.internal.reflect.NativeConstructorAccessorImpl.newInstance0(Native Method)\n",
      "\tat java.base/jdk.internal.reflect.NativeConstructorAccessorImpl.newInstance(NativeConstructorAccessorImpl.java:62)\n",
      "\tat java.base/jdk.internal.reflect.DelegatingConstructorAccessorImpl.newInstance(DelegatingConstructorAccessorImpl.java:45)\n",
      "\tat java.base/java.lang.reflect.Constructor.newInstance(Constructor.java:490)\n",
      "\tat kotlin.script.experimental.jvm.BasicJvmScriptEvaluator.evalWithConfigAndOtherScriptsResults(BasicJvmScriptEvaluator.kt:100)\n",
      "\tat kotlin.script.experimental.jvm.BasicJvmScriptEvaluator.invoke$suspendImpl(BasicJvmScriptEvaluator.kt:47)\n",
      "\tat kotlin.script.experimental.jvm.BasicJvmScriptEvaluator.invoke(BasicJvmScriptEvaluator.kt)\n",
      "\tat kotlin.script.experimental.jvm.BasicJvmReplEvaluator.eval(BasicJvmReplEvaluator.kt:49)\n",
      "\tat org.jetbrains.kotlinx.jupyter.repl.impl.InternalEvaluatorImpl$eval$resultWithDiagnostics$1.invokeSuspend(InternalEvaluatorImpl.kt:99)\n",
      "\tat kotlin.coroutines.jvm.internal.BaseContinuationImpl.resumeWith(ContinuationImpl.kt:33)\n",
      "\tat kotlinx.coroutines.DispatchedTask.run(DispatchedTask.kt:106)\n",
      "\tat kotlinx.coroutines.EventLoopImplBase.processNextEvent(EventLoop.common.kt:279)\n",
      "\tat kotlinx.coroutines.BlockingCoroutine.joinBlocking(Builders.kt:85)\n",
      "\tat kotlinx.coroutines.BuildersKt__BuildersKt.runBlocking(Builders.kt:59)\n",
      "\tat kotlinx.coroutines.BuildersKt.runBlocking(Unknown Source)\n",
      "\tat kotlinx.coroutines.BuildersKt__BuildersKt.runBlocking$default(Builders.kt:38)\n",
      "\tat kotlinx.coroutines.BuildersKt.runBlocking$default(Unknown Source)\n",
      "\tat org.jetbrains.kotlinx.jupyter.repl.impl.InternalEvaluatorImpl.eval(InternalEvaluatorImpl.kt:99)\n",
      "\tat org.jetbrains.kotlinx.jupyter.repl.impl.CellExecutorImpl$execute$1$result$1.invoke(CellExecutorImpl.kt:70)\n",
      "\tat org.jetbrains.kotlinx.jupyter.repl.impl.CellExecutorImpl$execute$1$result$1.invoke(CellExecutorImpl.kt:68)\n",
      "\tat org.jetbrains.kotlinx.jupyter.ReplForJupyterImpl.withHost(repl.kt:618)\n",
      "\tat org.jetbrains.kotlinx.jupyter.repl.impl.CellExecutorImpl.execute(CellExecutorImpl.kt:68)\n",
      "\tat org.jetbrains.kotlinx.jupyter.repl.CellExecutor$DefaultImpls.execute$default(CellExecutor.kt:14)\n",
      "\tat org.jetbrains.kotlinx.jupyter.ReplForJupyterImpl$evalEx$1.invoke(repl.kt:438)\n",
      "\tat org.jetbrains.kotlinx.jupyter.ReplForJupyterImpl$evalEx$1.invoke(repl.kt:427)\n",
      "\tat org.jetbrains.kotlinx.jupyter.ReplForJupyterImpl.withEvalContext(repl.kt:391)\n",
      "\tat org.jetbrains.kotlinx.jupyter.ReplForJupyterImpl.evalEx(repl.kt:427)\n",
      "\tat org.jetbrains.kotlinx.jupyter.ReplForJupyterImpl.eval(repl.kt:475)\n",
      "\tat org.jetbrains.kotlinx.jupyter.messaging.ProtocolKt$shellMessagesHandler$res$1.invoke(protocol.kt:301)\n",
      "\tat org.jetbrains.kotlinx.jupyter.messaging.ProtocolKt$shellMessagesHandler$res$1.invoke(protocol.kt:300)\n",
      "\tat org.jetbrains.kotlinx.jupyter.JupyterConnection$runExecution$execThread$1.invoke(connection.kt:180)\n",
      "\tat org.jetbrains.kotlinx.jupyter.JupyterConnection$runExecution$execThread$1.invoke(connection.kt:178)\n",
      "\tat kotlin.concurrent.ThreadsKt$thread$thread$1.run(Thread.kt:30)\n"
     ]
    }
   ],
   "source": [
    "val res = plain.explodeTest(dropEmpty = false) { groupCol }\n",
    "res"
   ]
  },
  {
   "cell_type": "code",
   "execution_count": 16,
   "id": "610aa2d1",
   "metadata": {},
   "outputs": [
    {
     "name": "stdout",
     "output_type": "stream",
     "text": [
      "Before runtime\n",
      "city: String?\n",
      "group: DataFrame?\n",
      "\n",
      "Before compile\n",
      "city: kotlin.String?\n",
      "group: org.jetbrains.kotlinx.dataframe.DataFrame?\n",
      "Runtime\n",
      "city: String?\n",
      "group:\n",
      "    name: String?\n",
      "    age: Int?\n",
      "    city: String?\n",
      "    weight: Int?\n",
      "\n",
      "Compile\n"
     ]
    },
    {
     "name": "stderr",
     "output_type": "stream",
     "text": [
      "An operation is not implemented: explode lists\n",
      "kotlin.NotImplementedError: An operation is not implemented: explode lists\n",
      "\tat org.jetbrains.kotlinx.dataframe.plugin.ExplodeKt.explodeImpl$explode(explode.kt:49)\n",
      "\tat org.jetbrains.kotlinx.dataframe.plugin.ExplodeKt.explodeImpl(explode.kt:58)\n",
      "\tat Line_11.explodeTest(Line_11.jupyter-kts:15)\n",
      "\tat Line_25.<init>(Line_25.jupyter-kts:1)\n",
      "\tat java.base/jdk.internal.reflect.NativeConstructorAccessorImpl.newInstance0(Native Method)\n",
      "\tat java.base/jdk.internal.reflect.NativeConstructorAccessorImpl.newInstance(NativeConstructorAccessorImpl.java:62)\n",
      "\tat java.base/jdk.internal.reflect.DelegatingConstructorAccessorImpl.newInstance(DelegatingConstructorAccessorImpl.java:45)\n",
      "\tat java.base/java.lang.reflect.Constructor.newInstance(Constructor.java:490)\n",
      "\tat kotlin.script.experimental.jvm.BasicJvmScriptEvaluator.evalWithConfigAndOtherScriptsResults(BasicJvmScriptEvaluator.kt:100)\n",
      "\tat kotlin.script.experimental.jvm.BasicJvmScriptEvaluator.invoke$suspendImpl(BasicJvmScriptEvaluator.kt:47)\n",
      "\tat kotlin.script.experimental.jvm.BasicJvmScriptEvaluator.invoke(BasicJvmScriptEvaluator.kt)\n",
      "\tat kotlin.script.experimental.jvm.BasicJvmReplEvaluator.eval(BasicJvmReplEvaluator.kt:49)\n",
      "\tat org.jetbrains.kotlinx.jupyter.repl.impl.InternalEvaluatorImpl$eval$resultWithDiagnostics$1.invokeSuspend(InternalEvaluatorImpl.kt:99)\n",
      "\tat kotlin.coroutines.jvm.internal.BaseContinuationImpl.resumeWith(ContinuationImpl.kt:33)\n",
      "\tat kotlinx.coroutines.DispatchedTask.run(DispatchedTask.kt:106)\n",
      "\tat kotlinx.coroutines.EventLoopImplBase.processNextEvent(EventLoop.common.kt:279)\n",
      "\tat kotlinx.coroutines.BlockingCoroutine.joinBlocking(Builders.kt:85)\n",
      "\tat kotlinx.coroutines.BuildersKt__BuildersKt.runBlocking(Builders.kt:59)\n",
      "\tat kotlinx.coroutines.BuildersKt.runBlocking(Unknown Source)\n",
      "\tat kotlinx.coroutines.BuildersKt__BuildersKt.runBlocking$default(Builders.kt:38)\n",
      "\tat kotlinx.coroutines.BuildersKt.runBlocking$default(Unknown Source)\n",
      "\tat org.jetbrains.kotlinx.jupyter.repl.impl.InternalEvaluatorImpl.eval(InternalEvaluatorImpl.kt:99)\n",
      "\tat org.jetbrains.kotlinx.jupyter.repl.impl.CellExecutorImpl$execute$1$result$1.invoke(CellExecutorImpl.kt:70)\n",
      "\tat org.jetbrains.kotlinx.jupyter.repl.impl.CellExecutorImpl$execute$1$result$1.invoke(CellExecutorImpl.kt:68)\n",
      "\tat org.jetbrains.kotlinx.jupyter.ReplForJupyterImpl.withHost(repl.kt:618)\n",
      "\tat org.jetbrains.kotlinx.jupyter.repl.impl.CellExecutorImpl.execute(CellExecutorImpl.kt:68)\n",
      "\tat org.jetbrains.kotlinx.jupyter.repl.CellExecutor$DefaultImpls.execute$default(CellExecutor.kt:14)\n",
      "\tat org.jetbrains.kotlinx.jupyter.ReplForJupyterImpl$evalEx$1.invoke(repl.kt:438)\n",
      "\tat org.jetbrains.kotlinx.jupyter.ReplForJupyterImpl$evalEx$1.invoke(repl.kt:427)\n",
      "\tat org.jetbrains.kotlinx.jupyter.ReplForJupyterImpl.withEvalContext(repl.kt:391)\n",
      "\tat org.jetbrains.kotlinx.jupyter.ReplForJupyterImpl.evalEx(repl.kt:427)\n",
      "\tat org.jetbrains.kotlinx.jupyter.ReplForJupyterImpl.eval(repl.kt:475)\n",
      "\tat org.jetbrains.kotlinx.jupyter.messaging.ProtocolKt$shellMessagesHandler$res$1.invoke(protocol.kt:301)\n",
      "\tat org.jetbrains.kotlinx.jupyter.messaging.ProtocolKt$shellMessagesHandler$res$1.invoke(protocol.kt:300)\n",
      "\tat org.jetbrains.kotlinx.jupyter.JupyterConnection$runExecution$execThread$1.invoke(connection.kt:180)\n",
      "\tat org.jetbrains.kotlinx.jupyter.JupyterConnection$runExecution$execThread$1.invoke(connection.kt:178)\n",
      "\tat kotlin.concurrent.ThreadsKt$thread$thread$1.run(Thread.kt:30)\n"
     ]
    }
   ],
   "source": [
    "val res1 = plain.explodeTest(dropEmpty = true) { groupCol }\n",
    "res1"
   ]
  },
  {
   "cell_type": "code",
   "execution_count": 17,
   "id": "0ebb11e7",
   "metadata": {},
   "outputs": [
    {
     "data": {
      "text/plain": [
       "6"
      ]
     },
     "execution_count": 17,
     "metadata": {},
     "output_type": "execute_result"
    }
   ],
   "source": [
    "val expected = plain[groupCol.name()].sumOf { Math.max((it as AnyFrame?)?.rowsCount() ?: 0, 1) }\n",
    "expected"
   ]
  },
  {
   "cell_type": "code",
   "execution_count": 18,
   "id": "5aa72274",
   "metadata": {},
   "outputs": [],
   "source": [
    "val ints by columnOf(1, 2, 3)\n",
    "val group by columnOf(ints)\n",
    "val df = dataFrameOf(group)\n",
    "\n",
    "val frameCol by columnOf(df, df.take(0))\n",
    "val names by columnOf(\"a\", \"b\")\n",
    "val df1 = dataFrameOf(names, frameCol)"
   ]
  },
  {
   "cell_type": "code",
   "execution_count": 19,
   "id": "9f4a5c6a",
   "metadata": {},
   "outputs": [
    {
     "data": {
      "text/plain": [
       "names: String\n",
       "frameCol: *\n",
       "    group:\n",
       "        ints: Int\n"
      ]
     },
     "execution_count": 19,
     "metadata": {},
     "output_type": "execute_result"
    }
   ],
   "source": [
    "df1.schema()"
   ]
  },
  {
   "cell_type": "code",
   "execution_count": 20,
   "id": "3828ad96",
   "metadata": {},
   "outputs": [
    {
     "name": "stdout",
     "output_type": "stream",
     "text": [
      "Before runtime\n",
      "names: String\n",
      "frameCol: *\n",
      "    group:\n",
      "        ints: Int\n",
      "\n",
      "Before compile\n",
      "names: kotlin.String\n",
      "*frameCol\n",
      "   group\n",
      "      ints: kotlin.Int\n",
      "Runtime\n",
      "names: String\n",
      "frameCol:\n",
      "    group:\n",
      "        ints: Int\n",
      "\n",
      "Compile\n",
      "names: kotlin.String\n",
      "frameCol\n",
      "   group\n",
      "      ints: kotlin.Int\n"
     ]
    },
    {
     "data": {
      "text/html": [
       "        <html>\n",
       "        <head>\n",
       "            <style type=\"text/css\">\n",
       "                \n",
       "\n",
       "            </style>\n",
       "        </head>\n",
       "        <body>\n",
       "            <table class=\"dataframe\" id=\"df_-369098740\"></table>\n",
       "\n",
       "<p>DataFrame: rowsCount = 3, columnsCount = 2</p>\n",
       "        </body>\n",
       "        <script>\n",
       "            /*<!--*/\n",
       "call_DataFrame(function() { DataFrame.addTable({ cols: [{ name: \"<span title=\\\"names: String\\\">names</span>\", children: [], rightAlign: false, values: [\"a\",\"a\",\"a\"] }, \n",
       "{ name: \"<span title=\\\"ints: Int\\\">ints</span>\", children: [], rightAlign: true, values: [\"<span class=\\\"formatted\\\" title=\\\"\\\"><span class=\\\"numbers\\\">1</span></span>\",\"<span class=\\\"formatted\\\" title=\\\"\\\"><span class=\\\"numbers\\\">2</span></span>\",\"<span class=\\\"formatted\\\" title=\\\"\\\"><span class=\\\"numbers\\\">3</span></span>\"] }, \n",
       "{ name: \"<span title=\\\"group: DataRow\\\">group</span>\", children: [1], rightAlign: false, values: [\"<span class=\\\"formatted\\\" title=\\\"ints: 1\\\"><span class=\\\"structural\\\">{ </span><span class=\\\"structural\\\">ints: </span><span class=\\\"numbers\\\">1</span><span class=\\\"structural\\\"> }</span></span>\",\"<span class=\\\"formatted\\\" title=\\\"ints: 2\\\"><span class=\\\"structural\\\">{ </span><span class=\\\"structural\\\">ints: </span><span class=\\\"numbers\\\">2</span><span class=\\\"structural\\\"> }</span></span>\",\"<span class=\\\"formatted\\\" title=\\\"ints: 3\\\"><span class=\\\"structural\\\">{ </span><span class=\\\"structural\\\">ints: </span><span class=\\\"numbers\\\">3</span><span class=\\\"structural\\\"> }</span></span>\"] }, \n",
       "{ name: \"<span title=\\\"frameCol: DataRow\\\">frameCol</span>\", children: [2], rightAlign: false, values: [\"<span class=\\\"formatted\\\" title=\\\"group: { ints:1 }\\\"><span class=\\\"structural\\\">{ </span><span class=\\\"structural\\\">group: </span><span class=\\\"structural\\\">{ </span><span class=\\\"structural\\\">ints: </span><span class=\\\"numbers\\\">1</span><span class=\\\"structural\\\"> }</span><span class=\\\"structural\\\"> }</span></span>\",\"<span class=\\\"formatted\\\" title=\\\"group: { ints:2 }\\\"><span class=\\\"structural\\\">{ </span><span class=\\\"structural\\\">group: </span><span class=\\\"structural\\\">{ </span><span class=\\\"structural\\\">ints: </span><span class=\\\"numbers\\\">2</span><span class=\\\"structural\\\"> }</span><span class=\\\"structural\\\"> }</span></span>\",\"<span class=\\\"formatted\\\" title=\\\"group: { ints:3 }\\\"><span class=\\\"structural\\\">{ </span><span class=\\\"structural\\\">group: </span><span class=\\\"structural\\\">{ </span><span class=\\\"structural\\\">ints: </span><span class=\\\"numbers\\\">3</span><span class=\\\"structural\\\"> }</span><span class=\\\"structural\\\"> }</span></span>\"] }, \n",
       "], id: -369098740, rootId: -369098740, totalRows: 3 } ) });\n",
       "/*-->*/\n",
       "\n",
       "call_DataFrame(function() { DataFrame.renderTable(-369098740) });\n",
       "\n",
       "\n",
       "        </script>\n",
       "        </html>"
      ]
     },
     "execution_count": 20,
     "metadata": {},
     "output_type": "execute_result"
    }
   ],
   "source": [
    "df1.explodeTest()"
   ]
  },
  {
   "cell_type": "code",
   "execution_count": 22,
   "id": "67b39d9c",
   "metadata": {},
   "outputs": [
    {
     "name": "stdout",
     "output_type": "stream",
     "text": [
      "Before runtime\n",
      "names: String\n",
      "frameCol: *\n",
      "    group:\n",
      "        ints: Int\n",
      "\n",
      "Before compile\n",
      "names: kotlin.String\n",
      "*frameCol\n",
      "   group\n",
      "      ints: kotlin.Int\n",
      "Runtime\n",
      "names: String\n",
      "frameCol:\n",
      "    group:\n",
      "        ints: Int?\n",
      "\n",
      "Compile\n",
      "names: kotlin.String\n",
      "frameCol\n",
      "   group\n",
      "      ints: kotlin.Int?\n"
     ]
    },
    {
     "data": {
      "text/html": [
       "        <html>\n",
       "        <head>\n",
       "            <style type=\"text/css\">\n",
       "                \n",
       "\n",
       "            </style>\n",
       "        </head>\n",
       "        <body>\n",
       "            <table class=\"dataframe\" id=\"df_-369098739\"></table>\n",
       "\n",
       "<p>DataFrame: rowsCount = 4, columnsCount = 2</p>\n",
       "        </body>\n",
       "        <script>\n",
       "            /*<!--*/\n",
       "call_DataFrame(function() { DataFrame.addTable({ cols: [{ name: \"<span title=\\\"names: String\\\">names</span>\", children: [], rightAlign: false, values: [\"a\",\"a\",\"a\",\"b\"] }, \n",
       "{ name: \"<span title=\\\"ints: Int?\\\">ints</span>\", children: [], rightAlign: true, values: [\"<span class=\\\"formatted\\\" title=\\\"\\\"><span class=\\\"numbers\\\">1</span></span>\",\"<span class=\\\"formatted\\\" title=\\\"\\\"><span class=\\\"numbers\\\">2</span></span>\",\"<span class=\\\"formatted\\\" title=\\\"\\\"><span class=\\\"numbers\\\">3</span></span>\",\"<span class=\\\"formatted\\\" title=\\\"\\\"><span class=\\\"null\\\">null</span></span>\"] }, \n",
       "{ name: \"<span title=\\\"group: DataRow\\\">group</span>\", children: [1], rightAlign: false, values: [\"<span class=\\\"formatted\\\" title=\\\"ints: 1\\\"><span class=\\\"structural\\\">{ </span><span class=\\\"structural\\\">ints: </span><span class=\\\"numbers\\\">1</span><span class=\\\"structural\\\"> }</span></span>\",\"<span class=\\\"formatted\\\" title=\\\"ints: 2\\\"><span class=\\\"structural\\\">{ </span><span class=\\\"structural\\\">ints: </span><span class=\\\"numbers\\\">2</span><span class=\\\"structural\\\"> }</span></span>\",\"<span class=\\\"formatted\\\" title=\\\"ints: 3\\\"><span class=\\\"structural\\\">{ </span><span class=\\\"structural\\\">ints: </span><span class=\\\"numbers\\\">3</span><span class=\\\"structural\\\"> }</span></span>\",\"<span class=\\\"formatted\\\" title=\\\"\\\"><span class=\\\"null\\\">{ }</span></span>\"] }, \n",
       "{ name: \"<span title=\\\"frameCol: DataRow\\\">frameCol</span>\", children: [2], rightAlign: false, values: [\"<span class=\\\"formatted\\\" title=\\\"group: { ints:1 }\\\"><span class=\\\"structural\\\">{ </span><span class=\\\"structural\\\">group: </span><span class=\\\"structural\\\">{ </span><span class=\\\"structural\\\">ints: </span><span class=\\\"numbers\\\">1</span><span class=\\\"structural\\\"> }</span><span class=\\\"structural\\\"> }</span></span>\",\"<span class=\\\"formatted\\\" title=\\\"group: { ints:2 }\\\"><span class=\\\"structural\\\">{ </span><span class=\\\"structural\\\">group: </span><span class=\\\"structural\\\">{ </span><span class=\\\"structural\\\">ints: </span><span class=\\\"numbers\\\">2</span><span class=\\\"structural\\\"> }</span><span class=\\\"structural\\\"> }</span></span>\",\"<span class=\\\"formatted\\\" title=\\\"group: { ints:3 }\\\"><span class=\\\"structural\\\">{ </span><span class=\\\"structural\\\">group: </span><span class=\\\"structural\\\">{ </span><span class=\\\"structural\\\">ints: </span><span class=\\\"numbers\\\">3</span><span class=\\\"structural\\\"> }</span><span class=\\\"structural\\\"> }</span></span>\",\"<span class=\\\"formatted\\\" title=\\\"\\\"><span class=\\\"null\\\">{ }</span></span>\"] }, \n",
       "], id: -369098739, rootId: -369098739, totalRows: 4 } ) });\n",
       "/*-->*/\n",
       "\n",
       "call_DataFrame(function() { DataFrame.renderTable(-369098739) });\n",
       "\n",
       "\n",
       "        </script>\n",
       "        </html>"
      ]
     },
     "execution_count": 22,
     "metadata": {},
     "output_type": "execute_result"
    }
   ],
   "source": [
    "val withEmpty = df1.explodeTest(dropEmpty = false)\n",
    "withEmpty"
   ]
  },
  {
   "cell_type": "code",
   "execution_count": 25,
   "id": "944897b8",
   "metadata": {},
   "outputs": [],
   "source": [
    "val ints by columnOf(1, 2, 3)\n",
    "val dd = dataFrameOf(ints)\n",
    "val nestedFrameCol by columnOf(dd, dd, dd)\n",
    "val group by columnOf(ints, nestedFrameCol)\n",
    "val df = dataFrameOf(group)\n",
    "\n",
    "val frameCol by columnOf(df, df.take(0))\n",
    "val names by columnOf(\"a\", \"b\")\n",
    "val df1 = dataFrameOf(names, frameCol)"
   ]
  },
  {
   "cell_type": "code",
   "execution_count": 26,
   "id": "a0be5bd5",
   "metadata": {},
   "outputs": [
    {
     "name": "stdout",
     "output_type": "stream",
     "text": [
      "names: String\n",
      "frameCol: *\n",
      "    group:\n",
      "        ints: Int\n",
      "        nestedFrameCol: *\n",
      "            ints: Int\n",
      "\n"
     ]
    },
    {
     "name": "stderr",
     "output_type": "stream",
     "text": [
      "Can not add value 'null' to FrameColumn\n",
      "java.lang.IllegalArgumentException: Can not add value 'null' to FrameColumn\n",
      "\tat org.jetbrains.kotlinx.dataframe.impl.api.UpdateKt.updateWith(update.kt:66)\n",
      "\tat org.jetbrains.kotlinx.dataframe.impl.api.UpdateKt.updateWith(update.kt:81)\n",
      "\tat org.jetbrains.kotlinx.dataframe.api.AppendKt.appendNulls(append.kt:26)\n",
      "\tat org.jetbrains.kotlinx.dataframe.impl.api.ExplodeKt.explodeImpl$splitIntoRows(explode.kt:68)\n",
      "\tat org.jetbrains.kotlinx.dataframe.impl.api.ExplodeKt.explodeImpl(explode.kt:109)\n",
      "\tat org.jetbrains.kotlinx.dataframe.api.ExplodeKt.explode(explode.kt:20)\n",
      "\tat org.jetbrains.kotlinx.dataframe.api.ExplodeKt.explode$default(explode.kt:17)\n",
      "\tat Line_79.<init>(Line_79.jupyter-kts:2)\n",
      "\tat java.base/jdk.internal.reflect.NativeConstructorAccessorImpl.newInstance0(Native Method)\n",
      "\tat java.base/jdk.internal.reflect.NativeConstructorAccessorImpl.newInstance(NativeConstructorAccessorImpl.java:62)\n",
      "\tat java.base/jdk.internal.reflect.DelegatingConstructorAccessorImpl.newInstance(DelegatingConstructorAccessorImpl.java:45)\n",
      "\tat java.base/java.lang.reflect.Constructor.newInstance(Constructor.java:490)\n",
      "\tat kotlin.script.experimental.jvm.BasicJvmScriptEvaluator.evalWithConfigAndOtherScriptsResults(BasicJvmScriptEvaluator.kt:100)\n",
      "\tat kotlin.script.experimental.jvm.BasicJvmScriptEvaluator.invoke$suspendImpl(BasicJvmScriptEvaluator.kt:47)\n",
      "\tat kotlin.script.experimental.jvm.BasicJvmScriptEvaluator.invoke(BasicJvmScriptEvaluator.kt)\n",
      "\tat kotlin.script.experimental.jvm.BasicJvmReplEvaluator.eval(BasicJvmReplEvaluator.kt:49)\n",
      "\tat org.jetbrains.kotlinx.jupyter.repl.impl.InternalEvaluatorImpl$eval$resultWithDiagnostics$1.invokeSuspend(InternalEvaluatorImpl.kt:99)\n",
      "\tat kotlin.coroutines.jvm.internal.BaseContinuationImpl.resumeWith(ContinuationImpl.kt:33)\n",
      "\tat kotlinx.coroutines.DispatchedTask.run(DispatchedTask.kt:106)\n",
      "\tat kotlinx.coroutines.EventLoopImplBase.processNextEvent(EventLoop.common.kt:279)\n",
      "\tat kotlinx.coroutines.BlockingCoroutine.joinBlocking(Builders.kt:85)\n",
      "\tat kotlinx.coroutines.BuildersKt__BuildersKt.runBlocking(Builders.kt:59)\n",
      "\tat kotlinx.coroutines.BuildersKt.runBlocking(Unknown Source)\n",
      "\tat kotlinx.coroutines.BuildersKt__BuildersKt.runBlocking$default(Builders.kt:38)\n",
      "\tat kotlinx.coroutines.BuildersKt.runBlocking$default(Unknown Source)\n",
      "\tat org.jetbrains.kotlinx.jupyter.repl.impl.InternalEvaluatorImpl.eval(InternalEvaluatorImpl.kt:99)\n",
      "\tat org.jetbrains.kotlinx.jupyter.repl.impl.CellExecutorImpl$execute$1$result$1.invoke(CellExecutorImpl.kt:70)\n",
      "\tat org.jetbrains.kotlinx.jupyter.repl.impl.CellExecutorImpl$execute$1$result$1.invoke(CellExecutorImpl.kt:68)\n",
      "\tat org.jetbrains.kotlinx.jupyter.ReplForJupyterImpl.withHost(repl.kt:618)\n",
      "\tat org.jetbrains.kotlinx.jupyter.repl.impl.CellExecutorImpl.execute(CellExecutorImpl.kt:68)\n",
      "\tat org.jetbrains.kotlinx.jupyter.repl.CellExecutor$DefaultImpls.execute$default(CellExecutor.kt:14)\n",
      "\tat org.jetbrains.kotlinx.jupyter.ReplForJupyterImpl$evalEx$1.invoke(repl.kt:438)\n",
      "\tat org.jetbrains.kotlinx.jupyter.ReplForJupyterImpl$evalEx$1.invoke(repl.kt:427)\n",
      "\tat org.jetbrains.kotlinx.jupyter.ReplForJupyterImpl.withEvalContext(repl.kt:391)\n",
      "\tat org.jetbrains.kotlinx.jupyter.ReplForJupyterImpl.evalEx(repl.kt:427)\n",
      "\tat org.jetbrains.kotlinx.jupyter.ReplForJupyterImpl.eval(repl.kt:475)\n",
      "\tat org.jetbrains.kotlinx.jupyter.messaging.ProtocolKt$shellMessagesHandler$res$1.invoke(protocol.kt:301)\n",
      "\tat org.jetbrains.kotlinx.jupyter.messaging.ProtocolKt$shellMessagesHandler$res$1.invoke(protocol.kt:300)\n",
      "\tat org.jetbrains.kotlinx.jupyter.JupyterConnection$runExecution$execThread$1.invoke(connection.kt:180)\n",
      "\tat org.jetbrains.kotlinx.jupyter.JupyterConnection$runExecution$execThread$1.invoke(connection.kt:178)\n",
      "\tat kotlin.concurrent.ThreadsKt$thread$thread$1.run(Thread.kt:30)\n"
     ]
    }
   ],
   "source": [
    "df1.schema().print()\n",
    "df1.explode(false).also { it.schema().print() }"
   ]
  },
  {
   "cell_type": "code",
   "execution_count": 27,
   "id": "5ef768d2",
   "metadata": {},
   "outputs": [],
   "source": [
    "val df2 = dataFrameOf(ints, nestedFrameCol, nestedFrameCol.named(\"hi\"))"
   ]
  },
  {
   "cell_type": "code",
   "execution_count": 28,
   "id": "b89ac682",
   "metadata": {},
   "outputs": [
    {
     "name": "stdout",
     "output_type": "stream",
     "text": [
      "ints: kotlin.Int\n",
      "*nestedFrameCol\n",
      "   ints: kotlin.Int\n",
      "*hi\n",
      "   ints: kotlin.Int\n",
      "ints: Int\n",
      "nestedFrameCol: *\n",
      "    ints: Int\n",
      "hi: *\n",
      "    ints: Int\n",
      "\n"
     ]
    },
    {
     "data": {
      "text/html": [
       "        <html>\n",
       "        <head>\n",
       "            <style type=\"text/css\">\n",
       "                \n",
       "\n",
       "            </style>\n",
       "        </head>\n",
       "        <body>\n",
       "            <table class=\"dataframe\" id=\"df_-369098738\"></table>\n",
       "\n",
       "<p>DataFrame: rowsCount = 9, columnsCount = 3</p>\n",
       "        </body>\n",
       "        <script>\n",
       "            /*<!--*/\n",
       "call_DataFrame(function() { DataFrame.addTable({ cols: [{ name: \"<span title=\\\"ints: Int\\\">ints</span>\", children: [], rightAlign: true, values: [\"<span class=\\\"formatted\\\" title=\\\"\\\"><span class=\\\"numbers\\\">1</span></span>\",\"<span class=\\\"formatted\\\" title=\\\"\\\"><span class=\\\"numbers\\\">1</span></span>\",\"<span class=\\\"formatted\\\" title=\\\"\\\"><span class=\\\"numbers\\\">1</span></span>\",\"<span class=\\\"formatted\\\" title=\\\"\\\"><span class=\\\"numbers\\\">2</span></span>\",\"<span class=\\\"formatted\\\" title=\\\"\\\"><span class=\\\"numbers\\\">2</span></span>\",\"<span class=\\\"formatted\\\" title=\\\"\\\"><span class=\\\"numbers\\\">2</span></span>\",\"<span class=\\\"formatted\\\" title=\\\"\\\"><span class=\\\"numbers\\\">3</span></span>\",\"<span class=\\\"formatted\\\" title=\\\"\\\"><span class=\\\"numbers\\\">3</span></span>\",\"<span class=\\\"formatted\\\" title=\\\"\\\"><span class=\\\"numbers\\\">3</span></span>\"] }, \n",
       "{ name: \"<span title=\\\"ints: Int\\\">ints</span>\", children: [], rightAlign: true, values: [\"<span class=\\\"formatted\\\" title=\\\"\\\"><span class=\\\"numbers\\\">1</span></span>\",\"<span class=\\\"formatted\\\" title=\\\"\\\"><span class=\\\"numbers\\\">2</span></span>\",\"<span class=\\\"formatted\\\" title=\\\"\\\"><span class=\\\"numbers\\\">3</span></span>\",\"<span class=\\\"formatted\\\" title=\\\"\\\"><span class=\\\"numbers\\\">1</span></span>\",\"<span class=\\\"formatted\\\" title=\\\"\\\"><span class=\\\"numbers\\\">2</span></span>\",\"<span class=\\\"formatted\\\" title=\\\"\\\"><span class=\\\"numbers\\\">3</span></span>\",\"<span class=\\\"formatted\\\" title=\\\"\\\"><span class=\\\"numbers\\\">1</span></span>\",\"<span class=\\\"formatted\\\" title=\\\"\\\"><span class=\\\"numbers\\\">2</span></span>\",\"<span class=\\\"formatted\\\" title=\\\"\\\"><span class=\\\"numbers\\\">3</span></span>\"] }, \n",
       "{ name: \"<span title=\\\"nestedFrameCol: DataRow\\\">nestedFrameCol</span>\", children: [1], rightAlign: false, values: [\"<span class=\\\"formatted\\\" title=\\\"ints: 1\\\"><span class=\\\"structural\\\">{ </span><span class=\\\"structural\\\">ints: </span><span class=\\\"numbers\\\">1</span><span class=\\\"structural\\\"> }</span></span>\",\"<span class=\\\"formatted\\\" title=\\\"ints: 2\\\"><span class=\\\"structural\\\">{ </span><span class=\\\"structural\\\">ints: </span><span class=\\\"numbers\\\">2</span><span class=\\\"structural\\\"> }</span></span>\",\"<span class=\\\"formatted\\\" title=\\\"ints: 3\\\"><span class=\\\"structural\\\">{ </span><span class=\\\"structural\\\">ints: </span><span class=\\\"numbers\\\">3</span><span class=\\\"structural\\\"> }</span></span>\",\"<span class=\\\"formatted\\\" title=\\\"ints: 1\\\"><span class=\\\"structural\\\">{ </span><span class=\\\"structural\\\">ints: </span><span class=\\\"numbers\\\">1</span><span class=\\\"structural\\\"> }</span></span>\",\"<span class=\\\"formatted\\\" title=\\\"ints: 2\\\"><span class=\\\"structural\\\">{ </span><span class=\\\"structural\\\">ints: </span><span class=\\\"numbers\\\">2</span><span class=\\\"structural\\\"> }</span></span>\",\"<span class=\\\"formatted\\\" title=\\\"ints: 3\\\"><span class=\\\"structural\\\">{ </span><span class=\\\"structural\\\">ints: </span><span class=\\\"numbers\\\">3</span><span class=\\\"structural\\\"> }</span></span>\",\"<span class=\\\"formatted\\\" title=\\\"ints: 1\\\"><span class=\\\"structural\\\">{ </span><span class=\\\"structural\\\">ints: </span><span class=\\\"numbers\\\">1</span><span class=\\\"structural\\\"> }</span></span>\",\"<span class=\\\"formatted\\\" title=\\\"ints: 2\\\"><span class=\\\"structural\\\">{ </span><span class=\\\"structural\\\">ints: </span><span class=\\\"numbers\\\">2</span><span class=\\\"structural\\\"> }</span></span>\",\"<span class=\\\"formatted\\\" title=\\\"ints: 3\\\"><span class=\\\"structural\\\">{ </span><span class=\\\"structural\\\">ints: </span><span class=\\\"numbers\\\">3</span><span class=\\\"structural\\\"> }</span></span>\"] }, \n",
       "{ name: \"<span title=\\\"ints: Int\\\">ints</span>\", children: [], rightAlign: true, values: [\"<span class=\\\"formatted\\\" title=\\\"\\\"><span class=\\\"numbers\\\">1</span></span>\",\"<span class=\\\"formatted\\\" title=\\\"\\\"><span class=\\\"numbers\\\">2</span></span>\",\"<span class=\\\"formatted\\\" title=\\\"\\\"><span class=\\\"numbers\\\">3</span></span>\",\"<span class=\\\"formatted\\\" title=\\\"\\\"><span class=\\\"numbers\\\">1</span></span>\",\"<span class=\\\"formatted\\\" title=\\\"\\\"><span class=\\\"numbers\\\">2</span></span>\",\"<span class=\\\"formatted\\\" title=\\\"\\\"><span class=\\\"numbers\\\">3</span></span>\",\"<span class=\\\"formatted\\\" title=\\\"\\\"><span class=\\\"numbers\\\">1</span></span>\",\"<span class=\\\"formatted\\\" title=\\\"\\\"><span class=\\\"numbers\\\">2</span></span>\",\"<span class=\\\"formatted\\\" title=\\\"\\\"><span class=\\\"numbers\\\">3</span></span>\"] }, \n",
       "{ name: \"<span title=\\\"hi: DataRow\\\">hi</span>\", children: [3], rightAlign: false, values: [\"<span class=\\\"formatted\\\" title=\\\"ints: 1\\\"><span class=\\\"structural\\\">{ </span><span class=\\\"structural\\\">ints: </span><span class=\\\"numbers\\\">1</span><span class=\\\"structural\\\"> }</span></span>\",\"<span class=\\\"formatted\\\" title=\\\"ints: 2\\\"><span class=\\\"structural\\\">{ </span><span class=\\\"structural\\\">ints: </span><span class=\\\"numbers\\\">2</span><span class=\\\"structural\\\"> }</span></span>\",\"<span class=\\\"formatted\\\" title=\\\"ints: 3\\\"><span class=\\\"structural\\\">{ </span><span class=\\\"structural\\\">ints: </span><span class=\\\"numbers\\\">3</span><span class=\\\"structural\\\"> }</span></span>\",\"<span class=\\\"formatted\\\" title=\\\"ints: 1\\\"><span class=\\\"structural\\\">{ </span><span class=\\\"structural\\\">ints: </span><span class=\\\"numbers\\\">1</span><span class=\\\"structural\\\"> }</span></span>\",\"<span class=\\\"formatted\\\" title=\\\"ints: 2\\\"><span class=\\\"structural\\\">{ </span><span class=\\\"structural\\\">ints: </span><span class=\\\"numbers\\\">2</span><span class=\\\"structural\\\"> }</span></span>\",\"<span class=\\\"formatted\\\" title=\\\"ints: 3\\\"><span class=\\\"structural\\\">{ </span><span class=\\\"structural\\\">ints: </span><span class=\\\"numbers\\\">3</span><span class=\\\"structural\\\"> }</span></span>\",\"<span class=\\\"formatted\\\" title=\\\"ints: 1\\\"><span class=\\\"structural\\\">{ </span><span class=\\\"structural\\\">ints: </span><span class=\\\"numbers\\\">1</span><span class=\\\"structural\\\"> }</span></span>\",\"<span class=\\\"formatted\\\" title=\\\"ints: 2\\\"><span class=\\\"structural\\\">{ </span><span class=\\\"structural\\\">ints: </span><span class=\\\"numbers\\\">2</span><span class=\\\"structural\\\"> }</span></span>\",\"<span class=\\\"formatted\\\" title=\\\"ints: 3\\\"><span class=\\\"structural\\\">{ </span><span class=\\\"structural\\\">ints: </span><span class=\\\"numbers\\\">3</span><span class=\\\"structural\\\"> }</span></span>\"] }, \n",
       "], id: -369098738, rootId: -369098738, totalRows: 9 } ) });\n",
       "/*-->*/\n",
       "\n",
       "call_DataFrame(function() { DataFrame.renderTable(-369098738) });\n",
       "\n",
       "\n",
       "        </script>\n",
       "        </html>"
      ]
     },
     "execution_count": 28,
     "metadata": {},
     "output_type": "execute_result"
    }
   ],
   "source": [
    "println(df2.schema().toPluginDataFrameSchema())\n",
    "df2.schema().print()\n",
    "df2.explode()"
   ]
  },
  {
   "cell_type": "code",
   "execution_count": 29,
   "id": "046bfe0f",
   "metadata": {},
   "outputs": [
    {
     "data": {
      "text/html": [
       "        <html>\n",
       "        <head>\n",
       "            <style type=\"text/css\">\n",
       "                \n",
       "\n",
       "            </style>\n",
       "        </head>\n",
       "        <body>\n",
       "            <table class=\"dataframe\" id=\"df_-369098737\"></table>\n",
       "\n",
       "<p>DataFrame: rowsCount = 3, columnsCount = 3</p>\n",
       "        </body>\n",
       "        <script>\n",
       "            /*<!--*/\n",
       "call_DataFrame(function() { DataFrame.addTable({ cols: [{ name: \"<span title=\\\"a: Int\\\">a</span>\", children: [], rightAlign: true, values: [\"<span class=\\\"formatted\\\" title=\\\"\\\"><span class=\\\"numbers\\\">1</span></span>\",\"<span class=\\\"formatted\\\" title=\\\"\\\"><span class=\\\"numbers\\\">1</span></span>\",\"<span class=\\\"formatted\\\" title=\\\"\\\"><span class=\\\"numbers\\\">1</span></span>\"] }, \n",
       "{ name: \"<span title=\\\"b: Int\\\">b</span>\", children: [], rightAlign: true, values: [\"<span class=\\\"formatted\\\" title=\\\"\\\"><span class=\\\"numbers\\\">2</span></span>\",\"<span class=\\\"formatted\\\" title=\\\"\\\"><span class=\\\"numbers\\\">2</span></span>\",\"<span class=\\\"formatted\\\" title=\\\"\\\"><span class=\\\"numbers\\\">2</span></span>\"] }, \n",
       "{ name: \"<span title=\\\"c: Int\\\">c</span>\", children: [], rightAlign: true, values: [\"<span class=\\\"formatted\\\" title=\\\"\\\"><span class=\\\"numbers\\\">3</span></span>\",\"<span class=\\\"formatted\\\" title=\\\"\\\"><span class=\\\"numbers\\\">3</span></span>\",\"<span class=\\\"formatted\\\" title=\\\"\\\"><span class=\\\"numbers\\\">3</span></span>\"] }, \n",
       "], id: -369098737, rootId: -369098737, totalRows: 3 } ) });\n",
       "/*-->*/\n",
       "\n",
       "call_DataFrame(function() { DataFrame.renderTable(-369098737) });\n",
       "\n",
       "\n",
       "        </script>\n",
       "        </html>"
      ]
     },
     "execution_count": 29,
     "metadata": {},
     "output_type": "execute_result"
    }
   ],
   "source": [
    "val dataRows = dataFrameOf(\"a\", \"b\", \"c\")(1, 2, 3).duplicateRows(3)\n",
    "dataRows"
   ]
  },
  {
   "cell_type": "code",
   "execution_count": 30,
   "id": "41f4fe2f",
   "metadata": {},
   "outputs": [],
   "source": [
    "val dataRowsList = dataRows.rows().toList()"
   ]
  },
  {
   "cell_type": "code",
   "execution_count": 31,
   "id": "431ef487",
   "metadata": {},
   "outputs": [],
   "source": [
    "val dfWithList = dataFrameOf(\"id\", \"list\")(1, dataRowsList, 2, dataRowsList)"
   ]
  },
  {
   "cell_type": "code",
   "execution_count": 32,
   "id": "2e3b2039",
   "metadata": {},
   "outputs": [
    {
     "data": {
      "text/html": [
       "        <html>\n",
       "        <head>\n",
       "            <style type=\"text/css\">\n",
       "                \n",
       "\n",
       "            </style>\n",
       "        </head>\n",
       "        <body>\n",
       "            <table class=\"dataframe\" id=\"df_-369098736\"></table>\n",
       "\n",
       "<p>DataFrame: rowsCount = 6, columnsCount = 2</p>\n",
       "        </body>\n",
       "        <script>\n",
       "            /*<!--*/\n",
       "call_DataFrame(function() { DataFrame.addTable({ cols: [{ name: \"<span title=\\\"id: Int\\\">id</span>\", children: [], rightAlign: true, values: [\"<span class=\\\"formatted\\\" title=\\\"\\\"><span class=\\\"numbers\\\">1</span></span>\",\"<span class=\\\"formatted\\\" title=\\\"\\\"><span class=\\\"numbers\\\">1</span></span>\",\"<span class=\\\"formatted\\\" title=\\\"\\\"><span class=\\\"numbers\\\">1</span></span>\",\"<span class=\\\"formatted\\\" title=\\\"\\\"><span class=\\\"numbers\\\">2</span></span>\",\"<span class=\\\"formatted\\\" title=\\\"\\\"><span class=\\\"numbers\\\">2</span></span>\",\"<span class=\\\"formatted\\\" title=\\\"\\\"><span class=\\\"numbers\\\">2</span></span>\"] }, \n",
       "{ name: \"<span title=\\\"a: Int\\\">a</span>\", children: [], rightAlign: true, values: [\"<span class=\\\"formatted\\\" title=\\\"\\\"><span class=\\\"numbers\\\">1</span></span>\",\"<span class=\\\"formatted\\\" title=\\\"\\\"><span class=\\\"numbers\\\">1</span></span>\",\"<span class=\\\"formatted\\\" title=\\\"\\\"><span class=\\\"numbers\\\">1</span></span>\",\"<span class=\\\"formatted\\\" title=\\\"\\\"><span class=\\\"numbers\\\">1</span></span>\",\"<span class=\\\"formatted\\\" title=\\\"\\\"><span class=\\\"numbers\\\">1</span></span>\",\"<span class=\\\"formatted\\\" title=\\\"\\\"><span class=\\\"numbers\\\">1</span></span>\"] }, \n",
       "{ name: \"<span title=\\\"b: Int\\\">b</span>\", children: [], rightAlign: true, values: [\"<span class=\\\"formatted\\\" title=\\\"\\\"><span class=\\\"numbers\\\">2</span></span>\",\"<span class=\\\"formatted\\\" title=\\\"\\\"><span class=\\\"numbers\\\">2</span></span>\",\"<span class=\\\"formatted\\\" title=\\\"\\\"><span class=\\\"numbers\\\">2</span></span>\",\"<span class=\\\"formatted\\\" title=\\\"\\\"><span class=\\\"numbers\\\">2</span></span>\",\"<span class=\\\"formatted\\\" title=\\\"\\\"><span class=\\\"numbers\\\">2</span></span>\",\"<span class=\\\"formatted\\\" title=\\\"\\\"><span class=\\\"numbers\\\">2</span></span>\"] }, \n",
       "{ name: \"<span title=\\\"c: Int\\\">c</span>\", children: [], rightAlign: true, values: [\"<span class=\\\"formatted\\\" title=\\\"\\\"><span class=\\\"numbers\\\">3</span></span>\",\"<span class=\\\"formatted\\\" title=\\\"\\\"><span class=\\\"numbers\\\">3</span></span>\",\"<span class=\\\"formatted\\\" title=\\\"\\\"><span class=\\\"numbers\\\">3</span></span>\",\"<span class=\\\"formatted\\\" title=\\\"\\\"><span class=\\\"numbers\\\">3</span></span>\",\"<span class=\\\"formatted\\\" title=\\\"\\\"><span class=\\\"numbers\\\">3</span></span>\",\"<span class=\\\"formatted\\\" title=\\\"\\\"><span class=\\\"numbers\\\">3</span></span>\"] }, \n",
       "{ name: \"<span title=\\\"list: DataRow\\\">list</span>\", children: [1, 2, 3], rightAlign: false, values: [\"<span class=\\\"formatted\\\" title=\\\"a: 1\\nb: 2\\nc: 3\\\"><span class=\\\"structural\\\">{ </span><span class=\\\"structural\\\">a: </span><span class=\\\"numbers\\\">1</span><span class=\\\"structural\\\">, </span><span class=\\\"structural\\\">b: </span><span class=\\\"numbers\\\">2</span><span class=\\\"structural\\\">, </span><span class=\\\"structural\\\">c: </span><span class=\\\"numbers\\\">3</span><span class=\\\"structural\\\"> }</span></span>\",\"<span class=\\\"formatted\\\" title=\\\"a: 1\\nb: 2\\nc: 3\\\"><span class=\\\"structural\\\">{ </span><span class=\\\"structural\\\">a: </span><span class=\\\"numbers\\\">1</span><span class=\\\"structural\\\">, </span><span class=\\\"structural\\\">b: </span><span class=\\\"numbers\\\">2</span><span class=\\\"structural\\\">, </span><span class=\\\"structural\\\">c: </span><span class=\\\"numbers\\\">3</span><span class=\\\"structural\\\"> }</span></span>\",\"<span class=\\\"formatted\\\" title=\\\"a: 1\\nb: 2\\nc: 3\\\"><span class=\\\"structural\\\">{ </span><span class=\\\"structural\\\">a: </span><span class=\\\"numbers\\\">1</span><span class=\\\"structural\\\">, </span><span class=\\\"structural\\\">b: </span><span class=\\\"numbers\\\">2</span><span class=\\\"structural\\\">, </span><span class=\\\"structural\\\">c: </span><span class=\\\"numbers\\\">3</span><span class=\\\"structural\\\"> }</span></span>\",\"<span class=\\\"formatted\\\" title=\\\"a: 1\\nb: 2\\nc: 3\\\"><span class=\\\"structural\\\">{ </span><span class=\\\"structural\\\">a: </span><span class=\\\"numbers\\\">1</span><span class=\\\"structural\\\">, </span><span class=\\\"structural\\\">b: </span><span class=\\\"numbers\\\">2</span><span class=\\\"structural\\\">, </span><span class=\\\"structural\\\">c: </span><span class=\\\"numbers\\\">3</span><span class=\\\"structural\\\"> }</span></span>\",\"<span class=\\\"formatted\\\" title=\\\"a: 1\\nb: 2\\nc: 3\\\"><span class=\\\"structural\\\">{ </span><span class=\\\"structural\\\">a: </span><span class=\\\"numbers\\\">1</span><span class=\\\"structural\\\">, </span><span class=\\\"structural\\\">b: </span><span class=\\\"numbers\\\">2</span><span class=\\\"structural\\\">, </span><span class=\\\"structural\\\">c: </span><span class=\\\"numbers\\\">3</span><span class=\\\"structural\\\"> }</span></span>\",\"<span class=\\\"formatted\\\" title=\\\"a: 1\\nb: 2\\nc: 3\\\"><span class=\\\"structural\\\">{ </span><span class=\\\"structural\\\">a: </span><span class=\\\"numbers\\\">1</span><span class=\\\"structural\\\">, </span><span class=\\\"structural\\\">b: </span><span class=\\\"numbers\\\">2</span><span class=\\\"structural\\\">, </span><span class=\\\"structural\\\">c: </span><span class=\\\"numbers\\\">3</span><span class=\\\"structural\\\"> }</span></span>\"] }, \n",
       "], id: -369098736, rootId: -369098736, totalRows: 6 } ) });\n",
       "/*-->*/\n",
       "\n",
       "call_DataFrame(function() { DataFrame.renderTable(-369098736) });\n",
       "\n",
       "\n",
       "        </script>\n",
       "        </html>"
      ]
     },
     "execution_count": 32,
     "metadata": {},
     "output_type": "execute_result"
    }
   ],
   "source": [
    "dfWithList.explode()"
   ]
  },
  {
   "cell_type": "code",
   "execution_count": 33,
   "id": "2b811895",
   "metadata": {},
   "outputs": [
    {
     "data": {
      "text/plain": [
       "id: Int\n",
       "list: *\n",
       "    a: Int\n",
       "    b: Int\n",
       "    c: Int\n"
      ]
     },
     "execution_count": 33,
     "metadata": {},
     "output_type": "execute_result"
    }
   ],
   "source": [
    "dfWithList.schema()"
   ]
  },
  {
   "cell_type": "code",
   "execution_count": 34,
   "id": "56205508",
   "metadata": {},
   "outputs": [],
   "source": [
    "val id by columnOf(1, 2)\n",
    "val list by columnOf(dataRowsList, dataRowsList)"
   ]
  },
  {
   "cell_type": "code",
   "execution_count": 35,
   "id": "81bda1cb",
   "metadata": {},
   "outputs": [],
   "source": [
    "val dfWithList1 = dataFrameOf(id, list)"
   ]
  },
  {
   "cell_type": "code",
   "execution_count": 36,
   "id": "2627c0a6",
   "metadata": {},
   "outputs": [
    {
     "data": {
      "text/plain": [
       "id: Int\n",
       "list: *\n",
       "    a: Int\n",
       "    b: Int\n",
       "    c: Int\n"
      ]
     },
     "execution_count": 36,
     "metadata": {},
     "output_type": "execute_result"
    }
   ],
   "source": [
    "dfWithList1.schema()"
   ]
  },
  {
   "cell_type": "code",
   "execution_count": 37,
   "id": "b48e969a",
   "metadata": {},
   "outputs": [],
   "source": [
    "@DataSchema\n",
    "interface MySchema {\n",
    "    val columnGroup: Any\n",
    "}"
   ]
  },
  {
   "cell_type": "code",
   "execution_count": 38,
   "id": "dee2a9e6",
   "metadata": {},
   "outputs": [],
   "source": [
    "val col1 by columnOf(\"a\", \"b\")\n",
    "val col2 by columnOf(1, 2)\n",
    "val columnGroup by columnOf(col1, col2)\n",
    "val dfff = dataFrameOf(columnGroup)"
   ]
  },
  {
   "cell_type": "code",
   "execution_count": 39,
   "id": "8ae85ad0",
   "metadata": {},
   "outputs": [],
   "source": [
    "val col = dfff[\"columnGroup\"] as DataColumn<Any>"
   ]
  },
  {
   "cell_type": "code",
   "execution_count": 40,
   "id": "a064f035",
   "metadata": {},
   "outputs": [
    {
     "data": {
      "text/plain": [
       "class org.jetbrains.kotlinx.dataframe.impl.columns.ColumnGroupImpl"
      ]
     },
     "execution_count": 40,
     "metadata": {},
     "output_type": "execute_result"
    }
   ],
   "source": [
    "dfff[\"columnGroup\"]::class"
   ]
  },
  {
   "cell_type": "code",
   "execution_count": null,
   "id": "f21cb5ba",
   "metadata": {},
   "outputs": [],
   "source": []
  }
 ],
 "metadata": {
  "kernelspec": {
   "display_name": "Kotlin",
   "language": "kotlin",
   "name": "kotlin"
  },
  "language_info": {
   "codemirror_mode": "text/x-kotlin",
   "file_extension": ".kt",
   "mimetype": "text/x-kotlin",
   "name": "kotlin",
   "nbconvert_exporter": "",
   "pygments_lexer": "kotlin",
   "version": "1.7.20-dev-1299"
  }
 },
 "nbformat": 4,
 "nbformat_minor": 5
}
