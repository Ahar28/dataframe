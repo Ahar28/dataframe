{
 "cells": [
  {
   "cell_type": "code",
   "execution_count": 2,
   "id": "ed4615e4",
   "metadata": {},
   "outputs": [],
   "source": [
    "@file:Repository(\"*mavenLocal\")\n",
    "@file:DependsOn(\"org.jetbrains.kotlinx:dataframe:0.9.0-dev\")"
   ]
  },
  {
   "cell_type": "code",
   "execution_count": null,
   "id": "45583324",
   "metadata": {},
   "outputs": [],
   "source": []
  }
 ],
 "metadata": {
  "kernelspec": {
   "display_name": "Kotlin",
   "language": "kotlin",
   "name": "kotlin"
  },
  "language_info": {
   "codemirror_mode": "text/x-kotlin",
   "file_extension": ".kt",
   "mimetype": "text/x-kotlin",
   "name": "kotlin",
   "nbconvert_exporter": "",
   "pygments_lexer": "kotlin",
   "version": "1.7.20-dev-1299"
  }
 },
 "nbformat": 4,
 "nbformat_minor": 5
}
